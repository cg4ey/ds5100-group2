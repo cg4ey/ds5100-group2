{
 "cells": [
  {
   "cell_type": "code",
   "execution_count": 65,
   "id": "e6d0b6a2-4d3c-422f-b85e-0305a93b33c9",
   "metadata": {},
   "outputs": [],
   "source": [
    "import os\n",
    "import pandas as pd\n",
    "import numpy as np\n",
    "\n",
    "from sklearn.model_selection import train_test_split, GridSearchCV\n",
    "from sklearn.preprocessing import StandardScaler\n",
    "from sklearn.ensemble import RandomForestRegressor\n",
    "from sklearn import metrics\n",
    "\n",
    "from matplotlib import pyplot as plt"
   ]
  },
  {
   "cell_type": "code",
   "execution_count": 45,
   "id": "3cc234ea-12ac-4aaa-9eda-e6164ca89444",
   "metadata": {},
   "outputs": [
    {
     "data": {
      "text/html": [
       "<div>\n",
       "<style scoped>\n",
       "    .dataframe tbody tr th:only-of-type {\n",
       "        vertical-align: middle;\n",
       "    }\n",
       "\n",
       "    .dataframe tbody tr th {\n",
       "        vertical-align: top;\n",
       "    }\n",
       "\n",
       "    .dataframe thead th {\n",
       "        text-align: right;\n",
       "    }\n",
       "</style>\n",
       "<table border=\"1\" class=\"dataframe\">\n",
       "  <thead>\n",
       "    <tr style=\"text-align: right;\">\n",
       "      <th></th>\n",
       "      <th>Country</th>\n",
       "      <th>Region</th>\n",
       "      <th>Happiness Rank</th>\n",
       "      <th>Happiness Score</th>\n",
       "      <th>Standard Error</th>\n",
       "      <th>Economy (GDP per Capita)</th>\n",
       "      <th>Family</th>\n",
       "      <th>Health (Life Expectancy)</th>\n",
       "      <th>Freedom</th>\n",
       "      <th>Trust (Government Corruption)</th>\n",
       "      <th>Generosity</th>\n",
       "      <th>Dystopia Residual</th>\n",
       "      <th>Year</th>\n",
       "      <th>Lower Confidence Interval</th>\n",
       "      <th>Upper Confidence Interval</th>\n",
       "      <th>Whisker.high</th>\n",
       "      <th>Whisker.low</th>\n",
       "    </tr>\n",
       "  </thead>\n",
       "  <tbody>\n",
       "    <tr>\n",
       "      <th>0</th>\n",
       "      <td>Switzerland</td>\n",
       "      <td>Western Europe</td>\n",
       "      <td>1</td>\n",
       "      <td>7.587</td>\n",
       "      <td>0.03411</td>\n",
       "      <td>1.39651</td>\n",
       "      <td>1.34951</td>\n",
       "      <td>0.94143</td>\n",
       "      <td>0.66557</td>\n",
       "      <td>0.41978</td>\n",
       "      <td>0.29678</td>\n",
       "      <td>2.51738</td>\n",
       "      <td>2015</td>\n",
       "      <td>NaN</td>\n",
       "      <td>NaN</td>\n",
       "      <td>NaN</td>\n",
       "      <td>NaN</td>\n",
       "    </tr>\n",
       "    <tr>\n",
       "      <th>1</th>\n",
       "      <td>Iceland</td>\n",
       "      <td>Western Europe</td>\n",
       "      <td>2</td>\n",
       "      <td>7.561</td>\n",
       "      <td>0.04884</td>\n",
       "      <td>1.30232</td>\n",
       "      <td>1.40223</td>\n",
       "      <td>0.94784</td>\n",
       "      <td>0.62877</td>\n",
       "      <td>0.14145</td>\n",
       "      <td>0.43630</td>\n",
       "      <td>2.70201</td>\n",
       "      <td>2015</td>\n",
       "      <td>NaN</td>\n",
       "      <td>NaN</td>\n",
       "      <td>NaN</td>\n",
       "      <td>NaN</td>\n",
       "    </tr>\n",
       "    <tr>\n",
       "      <th>2</th>\n",
       "      <td>Denmark</td>\n",
       "      <td>Western Europe</td>\n",
       "      <td>3</td>\n",
       "      <td>7.527</td>\n",
       "      <td>0.03328</td>\n",
       "      <td>1.32548</td>\n",
       "      <td>1.36058</td>\n",
       "      <td>0.87464</td>\n",
       "      <td>0.64938</td>\n",
       "      <td>0.48357</td>\n",
       "      <td>0.34139</td>\n",
       "      <td>2.49204</td>\n",
       "      <td>2015</td>\n",
       "      <td>NaN</td>\n",
       "      <td>NaN</td>\n",
       "      <td>NaN</td>\n",
       "      <td>NaN</td>\n",
       "    </tr>\n",
       "    <tr>\n",
       "      <th>3</th>\n",
       "      <td>Norway</td>\n",
       "      <td>Western Europe</td>\n",
       "      <td>4</td>\n",
       "      <td>7.522</td>\n",
       "      <td>0.03880</td>\n",
       "      <td>1.45900</td>\n",
       "      <td>1.33095</td>\n",
       "      <td>0.88521</td>\n",
       "      <td>0.66973</td>\n",
       "      <td>0.36503</td>\n",
       "      <td>0.34699</td>\n",
       "      <td>2.46531</td>\n",
       "      <td>2015</td>\n",
       "      <td>NaN</td>\n",
       "      <td>NaN</td>\n",
       "      <td>NaN</td>\n",
       "      <td>NaN</td>\n",
       "    </tr>\n",
       "    <tr>\n",
       "      <th>4</th>\n",
       "      <td>Canada</td>\n",
       "      <td>North America</td>\n",
       "      <td>5</td>\n",
       "      <td>7.427</td>\n",
       "      <td>0.03553</td>\n",
       "      <td>1.32629</td>\n",
       "      <td>1.32261</td>\n",
       "      <td>0.90563</td>\n",
       "      <td>0.63297</td>\n",
       "      <td>0.32957</td>\n",
       "      <td>0.45811</td>\n",
       "      <td>2.45176</td>\n",
       "      <td>2015</td>\n",
       "      <td>NaN</td>\n",
       "      <td>NaN</td>\n",
       "      <td>NaN</td>\n",
       "      <td>NaN</td>\n",
       "    </tr>\n",
       "  </tbody>\n",
       "</table>\n",
       "</div>"
      ],
      "text/plain": [
       "       Country          Region  Happiness Rank  Happiness Score  \\\n",
       "0  Switzerland  Western Europe               1            7.587   \n",
       "1      Iceland  Western Europe               2            7.561   \n",
       "2      Denmark  Western Europe               3            7.527   \n",
       "3       Norway  Western Europe               4            7.522   \n",
       "4       Canada   North America               5            7.427   \n",
       "\n",
       "   Standard Error  Economy (GDP per Capita)   Family  \\\n",
       "0         0.03411                   1.39651  1.34951   \n",
       "1         0.04884                   1.30232  1.40223   \n",
       "2         0.03328                   1.32548  1.36058   \n",
       "3         0.03880                   1.45900  1.33095   \n",
       "4         0.03553                   1.32629  1.32261   \n",
       "\n",
       "   Health (Life Expectancy)  Freedom  Trust (Government Corruption)  \\\n",
       "0                   0.94143  0.66557                        0.41978   \n",
       "1                   0.94784  0.62877                        0.14145   \n",
       "2                   0.87464  0.64938                        0.48357   \n",
       "3                   0.88521  0.66973                        0.36503   \n",
       "4                   0.90563  0.63297                        0.32957   \n",
       "\n",
       "   Generosity  Dystopia Residual  Year  Lower Confidence Interval  \\\n",
       "0     0.29678            2.51738  2015                        NaN   \n",
       "1     0.43630            2.70201  2015                        NaN   \n",
       "2     0.34139            2.49204  2015                        NaN   \n",
       "3     0.34699            2.46531  2015                        NaN   \n",
       "4     0.45811            2.45176  2015                        NaN   \n",
       "\n",
       "   Upper Confidence Interval  Whisker.high  Whisker.low  \n",
       "0                        NaN           NaN          NaN  \n",
       "1                        NaN           NaN          NaN  \n",
       "2                        NaN           NaN          NaN  \n",
       "3                        NaN           NaN          NaN  \n",
       "4                        NaN           NaN          NaN  "
      ]
     },
     "execution_count": 45,
     "metadata": {},
     "output_type": "execute_result"
    }
   ],
   "source": [
    "df = pd.read_csv('./data/data_all.csv')\n",
    "df.drop(df.columns[0], axis=1, inplace=True)\n",
    "df.head()"
   ]
  },
  {
   "cell_type": "code",
   "execution_count": 46,
   "id": "460a1d82-ff09-4f7d-8867-46b6ad7fccfa",
   "metadata": {},
   "outputs": [],
   "source": [
    "pred = ['Economy (GDP per Capita)', 'Trust (Government Corruption)', 'Freedom']\n",
    "resp = ['Happiness Score']"
   ]
  },
  {
   "cell_type": "code",
   "execution_count": 47,
   "id": "c3f3b7af-44d5-4024-a1cb-128dcf457aeb",
   "metadata": {},
   "outputs": [
    {
     "data": {
      "text/html": [
       "<div>\n",
       "<style scoped>\n",
       "    .dataframe tbody tr th:only-of-type {\n",
       "        vertical-align: middle;\n",
       "    }\n",
       "\n",
       "    .dataframe tbody tr th {\n",
       "        vertical-align: top;\n",
       "    }\n",
       "\n",
       "    .dataframe thead th {\n",
       "        text-align: right;\n",
       "    }\n",
       "</style>\n",
       "<table border=\"1\" class=\"dataframe\">\n",
       "  <thead>\n",
       "    <tr style=\"text-align: right;\">\n",
       "      <th></th>\n",
       "      <th>Economy (GDP per Capita)</th>\n",
       "      <th>Trust (Government Corruption)</th>\n",
       "      <th>Freedom</th>\n",
       "      <th>Happiness Score</th>\n",
       "    </tr>\n",
       "  </thead>\n",
       "  <tbody>\n",
       "    <tr>\n",
       "      <th>0</th>\n",
       "      <td>1.39651</td>\n",
       "      <td>0.41978</td>\n",
       "      <td>0.66557</td>\n",
       "      <td>7.587</td>\n",
       "    </tr>\n",
       "    <tr>\n",
       "      <th>1</th>\n",
       "      <td>1.30232</td>\n",
       "      <td>0.14145</td>\n",
       "      <td>0.62877</td>\n",
       "      <td>7.561</td>\n",
       "    </tr>\n",
       "    <tr>\n",
       "      <th>2</th>\n",
       "      <td>1.32548</td>\n",
       "      <td>0.48357</td>\n",
       "      <td>0.64938</td>\n",
       "      <td>7.527</td>\n",
       "    </tr>\n",
       "    <tr>\n",
       "      <th>3</th>\n",
       "      <td>1.45900</td>\n",
       "      <td>0.36503</td>\n",
       "      <td>0.66973</td>\n",
       "      <td>7.522</td>\n",
       "    </tr>\n",
       "    <tr>\n",
       "      <th>4</th>\n",
       "      <td>1.32629</td>\n",
       "      <td>0.32957</td>\n",
       "      <td>0.63297</td>\n",
       "      <td>7.427</td>\n",
       "    </tr>\n",
       "  </tbody>\n",
       "</table>\n",
       "</div>"
      ],
      "text/plain": [
       "   Economy (GDP per Capita)  Trust (Government Corruption)  Freedom  \\\n",
       "0                   1.39651                        0.41978  0.66557   \n",
       "1                   1.30232                        0.14145  0.62877   \n",
       "2                   1.32548                        0.48357  0.64938   \n",
       "3                   1.45900                        0.36503  0.66973   \n",
       "4                   1.32629                        0.32957  0.63297   \n",
       "\n",
       "   Happiness Score  \n",
       "0            7.587  \n",
       "1            7.561  \n",
       "2            7.527  \n",
       "3            7.522  \n",
       "4            7.427  "
      ]
     },
     "execution_count": 47,
     "metadata": {},
     "output_type": "execute_result"
    }
   ],
   "source": [
    "keep_cols = pred + resp\n",
    "df = df[keep_cols]\n",
    "df = df.dropna()\n",
    "df.head()"
   ]
  },
  {
   "cell_type": "code",
   "execution_count": 48,
   "id": "9e815f26-cc92-49c6-9505-7e8d273cad30",
   "metadata": {},
   "outputs": [],
   "source": [
    "X = df[pred]\n",
    "y = df[resp]"
   ]
  },
  {
   "cell_type": "code",
   "execution_count": 49,
   "id": "754396bc-1f82-4ed6-bc41-161082adcd2b",
   "metadata": {},
   "outputs": [],
   "source": [
    "X_train, X_test, y_train, y_test = train_test_split(X, y, test_size=0.2, random_state=0)"
   ]
  },
  {
   "cell_type": "code",
   "execution_count": 50,
   "id": "ef1cdc1e-438d-4ba7-99d3-913eb3871f8c",
   "metadata": {},
   "outputs": [],
   "source": [
    "# Feature Scaling\n",
    "sc = StandardScaler()\n",
    "X_train = sc.fit_transform(X_train)\n",
    "X_test = sc.transform(X_test)"
   ]
  },
  {
   "cell_type": "code",
   "execution_count": 51,
   "id": "dfccba71-e704-4c00-8d19-420d7ca24689",
   "metadata": {},
   "outputs": [],
   "source": [
    "y_train = y_train.values.ravel()\n",
    "y_test = y_test.values.ravel()"
   ]
  },
  {
   "cell_type": "code",
   "execution_count": 52,
   "id": "e9e06b18-adb3-4a6d-bcb0-4bdf87e685b3",
   "metadata": {},
   "outputs": [
    {
     "name": "stdout",
     "output_type": "stream",
     "text": [
      "(624, 3) (624,)\n"
     ]
    }
   ],
   "source": [
    "print(X_train.shape, y_train.shape)"
   ]
  },
  {
   "cell_type": "code",
   "execution_count": 53,
   "id": "8e63fb22-e565-4930-bb75-fe9c6194be49",
   "metadata": {},
   "outputs": [
    {
     "name": "stdout",
     "output_type": "stream",
     "text": [
      "(157, 3) (157,)\n"
     ]
    }
   ],
   "source": [
    "print(X_test.shape, y_test.shape)"
   ]
  },
  {
   "cell_type": "code",
   "execution_count": 77,
   "id": "11af6bc5-494b-4efd-8ac9-7439fcde736b",
   "metadata": {},
   "outputs": [],
   "source": [
    "n_estimators = [5, 10, 50, 100, 200, 500, 1000]\n",
    "mae, mse, rmse, train_scores, test_scores = [], [], [], [], []\n",
    "\n",
    "for n in n_estimators:\n",
    "    \n",
    "    regressor = RandomForestRegressor(n_estimators=n, random_state=0)\n",
    "    regressor.fit(X_train, y_train)\n",
    "    \n",
    "    train_scores.append(regressor.score(X_train, y_train))\n",
    "    test_scores.append(regressor.score(X_test, y_test))\n",
    "\n",
    "    test_y_pred = regressor.predict(X_test)\n",
    "    mae.append(metrics.mean_absolute_error(y_test, test_y_pred))\n",
    "    mse.append(metrics.mean_squared_error(y_test, test_y_pred))\n",
    "    rmse.append(np.sqrt(metrics.mean_squared_error(y_test, test_y_pred)))"
   ]
  },
  {
   "cell_type": "code",
   "execution_count": 78,
   "id": "4351a4bd-6517-4878-828a-2aae015502cc",
   "metadata": {},
   "outputs": [],
   "source": [
    "metrics_df = pd.DataFrame({\n",
    "    'n_estimators': n_estimators,\n",
    "    'mean_absolute_error': mae,\n",
    "    'mean_squared_error': mse,\n",
    "    'root_mean_squared_error': rmse,\n",
    "    'train_scores': train_scores,\n",
    "    'test_scores': test_scores\n",
    "})"
   ]
  },
  {
   "cell_type": "code",
   "execution_count": 84,
   "id": "cec5e730-8153-4bdc-a7e0-db82a5d22d15",
   "metadata": {},
   "outputs": [
    {
     "data": {
      "image/png": "[encoded data removed]",
      "text/plain": [
       "<Figure size 432x288 with 1 Axes>"
      ]
     },
     "metadata": {
      "needs_background": "light"
     },
     "output_type": "display_data"
    }
   ],
   "source": [
    "metrics_df.plot(    \n",
    "    x='n_estimators', \n",
    "    y='root_mean_squared_error',\n",
    "    kind='line',\n",
    "    title='RMSE vs. N Estimators',    \n",
    "    xlabel='n_estimators', \n",
    "    ylabel='root_mean_squared_error', \n",
    ")\n",
    "\n",
    "plt.show()"
   ]
  },
  {
   "cell_type": "code",
   "execution_count": 82,
   "id": "cf0dc53e-93cd-4c9f-8880-6d3249e9ea8d",
   "metadata": {},
   "outputs": [
    {
     "data": {
      "image/png": "[encoded data removed]",
      "text/plain": [
       "<Figure size 432x288 with 1 Axes>"
      ]
     },
     "metadata": {
      "needs_background": "light"
     },
     "output_type": "display_data"
    }
   ],
   "source": [
    "metrics_df.plot(    \n",
    "    x='n_estimators', \n",
    "    y=['train_scores', 'test_scores'],\n",
    "    kind='line',\n",
    "    legend=True,\n",
    "    title='Accuracy Score vs. N Estimators',    \n",
    "    xlabel='n_estimators', \n",
    "    ylabel='root_mean_squared_error'\n",
    ")\n",
    "\n",
    "plt.show()"
   ]
  },
  {
   "cell_type": "code",
   "execution_count": 77,
   "id": "c1c43767-83d7-4a73-ade6-1b5cc91e6683",
   "metadata": {},
   "outputs": [
    {
     "name": "stdout",
     "output_type": "stream",
     "text": [
      "X = [-0.99618963  3.63776928  0.60458446], Predicted = 4.11502598923449\n"
     ]
    }
   ],
   "source": [
    "econ_new = [.5]\n",
    "trust_new = [.5]\n",
    "freed_new = [.5]\n",
    "Xnew = pd.DataFrame({'Economy (GDP per Capita)': econ_new, \n",
    "                     'Trust (Government Corruption)': trust_new, \n",
    "                     'Freedom': freed_new})\n",
    "Xnew = sc.transform(Xnew)\n",
    "# make a prediction\n",
    "ynew = regressor.predict(Xnew)\n",
    "# show the inputs and predicted outputs\n",
    "for i in range(len(Xnew)):\n",
    "    print(f\"X = {Xnew[i]}, Predicted = {ynew[i]}\")"
   ]
  },
  {
   "cell_type": "code",
   "execution_count": null,
   "id": "48e43568-e389-4b12-ae7c-09ee9c8edac9",
   "metadata": {},
   "outputs": [],
   "source": []
  }
 ],
 "metadata": {
  "kernelspec": {
   "display_name": "Python 3 (ipykernel)",
   "language": "python",
   "name": "python3"
  },
  "language_info": {
   "codemirror_mode": {
    "name": "ipython",
    "version": 3
   },
   "file_extension": ".py",
   "mimetype": "text/x-python",
   "name": "python",
   "nbconvert_exporter": "python",
   "pygments_lexer": "ipython3",
   "version": "3.9.7"
  }
 },
 "nbformat": 4,
 "nbformat_minor": 5
}
