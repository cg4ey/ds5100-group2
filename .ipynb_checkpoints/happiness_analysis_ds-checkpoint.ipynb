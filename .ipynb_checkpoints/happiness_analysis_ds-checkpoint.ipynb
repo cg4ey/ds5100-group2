{
 "cells": [
  {
   "cell_type": "markdown",
   "id": "23339404-03ba-4ab8-b014-6fd4c11c88fc",
   "metadata": {
    "slideshow": {
     "slide_type": "slide"
    },
    "tags": []
   },
   "source": [
    "# Happiness Data Analysis\n",
    "## Dominic Scerbo (ybt7qf) "
   ]
  },
  {
   "cell_type": "markdown",
   "id": "9e31b12d-b995-4c26-a70c-e8ccbd62279f",
   "metadata": {
    "slideshow": {
     "slide_type": "slide"
    },
    "tags": []
   },
   "source": [
    "## Purpose: \n",
    "This notebook is used to address the question \"What factors have the strongest correlation with the happiness ranking\". Various approaches using scatterplots, correlations cooeficients, and various other visualizations in order to derive the answer to that question.\n",
    "\n",
    "## Objectives:\n",
    "- Data Wrangling\n",
    "- Generate Choropleth plot\n",
    "- Evaluate correlation and relationships\n",
    "- Create and evaluate a model\n",
    "\n",
    "## Environment Setup:\n",
    "A yaml file is provided to create a conda environment to run this notebook.\n",
    "To create the env run the following commands and select the new environment"
   ]
  },
  {
   "cell_type": "code",
   "execution_count": 3,
   "id": "90e10d23-40fc-4dfb-bfae-455bfbf69938",
   "metadata": {
    "tags": []
   },
   "outputs": [],
   "source": [
    "%conda env create -f ./data/env/environment.yml"
   ]
  },
  {
   "cell_type": "code",
   "execution_count": 4,
   "id": "f3ff5fe6-a6c1-47d7-abda-d1a8667be7f3",
   "metadata": {
    "tags": []
   },
   "outputs": [],
   "source": [
    "%conda activate myvirtualenv"
   ]
  },
  {
   "cell_type": "markdown",
   "id": "1d73f601-44f3-4ddd-948a-44896411828c",
   "metadata": {
    "slideshow": {
     "slide_type": "slide"
    },
    "tags": []
   },
   "source": [
    "### Read Happiness Data"
   ]
  },
  {
   "cell_type": "markdown",
   "id": "d47675ec-46c9-453c-8376-f87602302812",
   "metadata": {
    "tags": []
   },
   "source": [
    "In order to gain more context regarding the diversity of the data set we will show the countries that the data pretains to and their respecitve happiness scores. A visualization approach called a choropleth map will be generated to show this information. "
   ]
  },
  {
   "cell_type": "code",
   "execution_count": null,
   "id": "e8394de5-351a-47ad-8c7f-c806160339ee",
   "metadata": {
    "slideshow": {
     "slide_type": "skip"
    },
    "tags": []
   },
   "outputs": [],
   "source": [
    "%matplotlib inline"
   ]
  },
  {
   "cell_type": "code",
   "execution_count": 4,
   "id": "18d961f9-4d71-48db-a335-85758327f3b0",
   "metadata": {
    "slideshow": {
     "slide_type": "skip"
    },
    "tags": []
   },
   "outputs": [],
   "source": [
    "import os\n",
    "import geopandas as gpd\n",
    "import pandas as pd\n",
    "import numpy as np\n",
    "import pycountry\n",
    "import seaborn as sns\n",
    "import matplotlib.pyplot as plt"
   ]
  },
  {
   "cell_type": "markdown",
   "id": "f3b3df2d-c9a9-45f5-81e3-d75a73fe7ece",
   "metadata": {},
   "source": [
    "The first step is to use pandas to read in the happiness csv file"
   ]
  },
  {
   "cell_type": "code",
   "execution_count": 5,
   "id": "e63b2da3-f99d-4491-8d60-ab7b9ee39aec",
   "metadata": {},
   "outputs": [
    {
     "data": {
      "text/html": [
       "<div>\n",
       "<style scoped>\n",
       "    .dataframe tbody tr th:only-of-type {\n",
       "        vertical-align: middle;\n",
       "    }\n",
       "\n",
       "    .dataframe tbody tr th {\n",
       "        vertical-align: top;\n",
       "    }\n",
       "\n",
       "    .dataframe thead th {\n",
       "        text-align: right;\n",
       "    }\n",
       "</style>\n",
       "<table border=\"1\" class=\"dataframe\">\n",
       "  <thead>\n",
       "    <tr style=\"text-align: right;\">\n",
       "      <th></th>\n",
       "      <th>Country</th>\n",
       "      <th>Region</th>\n",
       "      <th>Happiness Rank</th>\n",
       "      <th>Happiness Score</th>\n",
       "      <th>Standard Error</th>\n",
       "      <th>Economy (GDP per Capita)</th>\n",
       "      <th>Family</th>\n",
       "      <th>Health (Life Expectancy)</th>\n",
       "      <th>Freedom</th>\n",
       "      <th>Trust (Government Corruption)</th>\n",
       "      <th>Generosity</th>\n",
       "      <th>Dystopia Residual</th>\n",
       "      <th>Year</th>\n",
       "      <th>Lower Confidence Interval</th>\n",
       "      <th>Upper Confidence Interval</th>\n",
       "      <th>Whisker.high</th>\n",
       "      <th>Whisker.low</th>\n",
       "    </tr>\n",
       "  </thead>\n",
       "  <tbody>\n",
       "    <tr>\n",
       "      <th>0</th>\n",
       "      <td>Switzerland</td>\n",
       "      <td>Western Europe</td>\n",
       "      <td>1</td>\n",
       "      <td>7.587</td>\n",
       "      <td>0.03411</td>\n",
       "      <td>1.39651</td>\n",
       "      <td>1.34951</td>\n",
       "      <td>0.94143</td>\n",
       "      <td>0.66557</td>\n",
       "      <td>0.41978</td>\n",
       "      <td>0.29678</td>\n",
       "      <td>2.51738</td>\n",
       "      <td>2015</td>\n",
       "      <td>NaN</td>\n",
       "      <td>NaN</td>\n",
       "      <td>NaN</td>\n",
       "      <td>NaN</td>\n",
       "    </tr>\n",
       "    <tr>\n",
       "      <th>1</th>\n",
       "      <td>Iceland</td>\n",
       "      <td>Western Europe</td>\n",
       "      <td>2</td>\n",
       "      <td>7.561</td>\n",
       "      <td>0.04884</td>\n",
       "      <td>1.30232</td>\n",
       "      <td>1.40223</td>\n",
       "      <td>0.94784</td>\n",
       "      <td>0.62877</td>\n",
       "      <td>0.14145</td>\n",
       "      <td>0.43630</td>\n",
       "      <td>2.70201</td>\n",
       "      <td>2015</td>\n",
       "      <td>NaN</td>\n",
       "      <td>NaN</td>\n",
       "      <td>NaN</td>\n",
       "      <td>NaN</td>\n",
       "    </tr>\n",
       "    <tr>\n",
       "      <th>2</th>\n",
       "      <td>Denmark</td>\n",
       "      <td>Western Europe</td>\n",
       "      <td>3</td>\n",
       "      <td>7.527</td>\n",
       "      <td>0.03328</td>\n",
       "      <td>1.32548</td>\n",
       "      <td>1.36058</td>\n",
       "      <td>0.87464</td>\n",
       "      <td>0.64938</td>\n",
       "      <td>0.48357</td>\n",
       "      <td>0.34139</td>\n",
       "      <td>2.49204</td>\n",
       "      <td>2015</td>\n",
       "      <td>NaN</td>\n",
       "      <td>NaN</td>\n",
       "      <td>NaN</td>\n",
       "      <td>NaN</td>\n",
       "    </tr>\n",
       "  </tbody>\n",
       "</table>\n",
       "</div>"
      ],
      "text/plain": [
       "       Country          Region  Happiness Rank  Happiness Score  \\\n",
       "0  Switzerland  Western Europe               1            7.587   \n",
       "1      Iceland  Western Europe               2            7.561   \n",
       "2      Denmark  Western Europe               3            7.527   \n",
       "\n",
       "   Standard Error  Economy (GDP per Capita)   Family  \\\n",
       "0         0.03411                   1.39651  1.34951   \n",
       "1         0.04884                   1.30232  1.40223   \n",
       "2         0.03328                   1.32548  1.36058   \n",
       "\n",
       "   Health (Life Expectancy)  Freedom  Trust (Government Corruption)  \\\n",
       "0                   0.94143  0.66557                        0.41978   \n",
       "1                   0.94784  0.62877                        0.14145   \n",
       "2                   0.87464  0.64938                        0.48357   \n",
       "\n",
       "   Generosity  Dystopia Residual  Year  Lower Confidence Interval  \\\n",
       "0     0.29678            2.51738  2015                        NaN   \n",
       "1     0.43630            2.70201  2015                        NaN   \n",
       "2     0.34139            2.49204  2015                        NaN   \n",
       "\n",
       "   Upper Confidence Interval  Whisker.high  Whisker.low  \n",
       "0                        NaN           NaN          NaN  \n",
       "1                        NaN           NaN          NaN  \n",
       "2                        NaN           NaN          NaN  "
      ]
     },
     "execution_count": 5,
     "metadata": {},
     "output_type": "execute_result"
    }
   ],
   "source": [
    "df = pd.read_csv('./data/data_all.csv')\n",
    "df.drop(df.columns[0], axis=1, inplace=True)\n",
    "df.head(3)"
   ]
  },
  {
   "cell_type": "markdown",
   "id": "fe372888-7fcc-4c0e-b134-77ca174a7ced",
   "metadata": {
    "slideshow": {
     "slide_type": "slide"
    },
    "tags": []
   },
   "source": [
    "### Validate Data Types"
   ]
  },
  {
   "cell_type": "markdown",
   "id": "7a22e4f8-c181-48b4-8c80-a7554ec81d6d",
   "metadata": {
    "tags": []
   },
   "source": [
    "Before conducting the analysis of the dataset we will first validate the data types of our variables of interest to ensure they are appropriate for how we intend to use them. The print out shows the numeric and string types we expected are typed appropriately."
   ]
  },
  {
   "cell_type": "code",
   "execution_count": 7,
   "id": "5e7f99f3-9a36-4a6d-bc0c-af514ddddb68",
   "metadata": {},
   "outputs": [
    {
     "data": {
      "text/plain": [
       "Country                           object\n",
       "Region                            object\n",
       "Happiness Rank                     int64\n",
       "Happiness Score                  float64\n",
       "Standard Error                   float64\n",
       "Economy (GDP per Capita)         float64\n",
       "Family                           float64\n",
       "Health (Life Expectancy)         float64\n",
       "Freedom                          float64\n",
       "Trust (Government Corruption)    float64\n",
       "Generosity                       float64\n",
       "Dystopia Residual                float64\n",
       "Year                               int64\n",
       "Lower Confidence Interval        float64\n",
       "Upper Confidence Interval        float64\n",
       "Whisker.high                     float64\n",
       "Whisker.low                      float64\n",
       "dtype: object"
      ]
     },
     "execution_count": 7,
     "metadata": {},
     "output_type": "execute_result"
    }
   ],
   "source": [
    "df.dtypes"
   ]
  },
  {
   "cell_type": "markdown",
   "id": "d8369671-ff0c-41a8-952b-38703bf57e55",
   "metadata": {
    "slideshow": {
     "slide_type": "slide"
    },
    "tags": []
   },
   "source": [
    "### Collect Country Codes "
   ]
  },
  {
   "cell_type": "markdown",
   "id": "1e649525-b8b6-414f-8e63-ba310d5ab302",
   "metadata": {
    "tags": []
   },
   "source": [
    "The first objective of the analysis is to visualize the dataset globally on a world basemap using a choropleth  visualization method meaning the score is characterized by the intensity of the color gradient on the map. To do this we will first obtain Country Codes for the country in order to associate them with another data file that contains the cuntries boundaries (geometries) for the map."
   ]
  },
  {
   "cell_type": "code",
   "execution_count": 8,
   "id": "89eaccbc-ae9f-4de5-b9ef-d709f63cb559",
   "metadata": {},
   "outputs": [
    {
     "data": {
      "text/html": [
       "<div>\n",
       "<style scoped>\n",
       "    .dataframe tbody tr th:only-of-type {\n",
       "        vertical-align: middle;\n",
       "    }\n",
       "\n",
       "    .dataframe tbody tr th {\n",
       "        vertical-align: top;\n",
       "    }\n",
       "\n",
       "    .dataframe thead th {\n",
       "        text-align: right;\n",
       "    }\n",
       "</style>\n",
       "<table border=\"1\" class=\"dataframe\">\n",
       "  <thead>\n",
       "    <tr style=\"text-align: right;\">\n",
       "      <th></th>\n",
       "      <th>Country</th>\n",
       "      <th>Region</th>\n",
       "      <th>Happiness Rank</th>\n",
       "      <th>Happiness Score</th>\n",
       "      <th>Standard Error</th>\n",
       "      <th>Economy (GDP per Capita)</th>\n",
       "      <th>Family</th>\n",
       "      <th>Health (Life Expectancy)</th>\n",
       "      <th>Freedom</th>\n",
       "      <th>Trust (Government Corruption)</th>\n",
       "      <th>Generosity</th>\n",
       "      <th>Dystopia Residual</th>\n",
       "      <th>Year</th>\n",
       "      <th>Lower Confidence Interval</th>\n",
       "      <th>Upper Confidence Interval</th>\n",
       "      <th>Whisker.high</th>\n",
       "      <th>Whisker.low</th>\n",
       "      <th>Country Code</th>\n",
       "    </tr>\n",
       "  </thead>\n",
       "  <tbody>\n",
       "    <tr>\n",
       "      <th>0</th>\n",
       "      <td>Switzerland</td>\n",
       "      <td>Western Europe</td>\n",
       "      <td>1</td>\n",
       "      <td>7.587</td>\n",
       "      <td>0.03411</td>\n",
       "      <td>1.39651</td>\n",
       "      <td>1.34951</td>\n",
       "      <td>0.94143</td>\n",
       "      <td>0.66557</td>\n",
       "      <td>0.41978</td>\n",
       "      <td>0.29678</td>\n",
       "      <td>2.51738</td>\n",
       "      <td>2015</td>\n",
       "      <td>NaN</td>\n",
       "      <td>NaN</td>\n",
       "      <td>NaN</td>\n",
       "      <td>NaN</td>\n",
       "      <td>CHE</td>\n",
       "    </tr>\n",
       "    <tr>\n",
       "      <th>1</th>\n",
       "      <td>Iceland</td>\n",
       "      <td>Western Europe</td>\n",
       "      <td>2</td>\n",
       "      <td>7.561</td>\n",
       "      <td>0.04884</td>\n",
       "      <td>1.30232</td>\n",
       "      <td>1.40223</td>\n",
       "      <td>0.94784</td>\n",
       "      <td>0.62877</td>\n",
       "      <td>0.14145</td>\n",
       "      <td>0.43630</td>\n",
       "      <td>2.70201</td>\n",
       "      <td>2015</td>\n",
       "      <td>NaN</td>\n",
       "      <td>NaN</td>\n",
       "      <td>NaN</td>\n",
       "      <td>NaN</td>\n",
       "      <td>ISL</td>\n",
       "    </tr>\n",
       "    <tr>\n",
       "      <th>2</th>\n",
       "      <td>Denmark</td>\n",
       "      <td>Western Europe</td>\n",
       "      <td>3</td>\n",
       "      <td>7.527</td>\n",
       "      <td>0.03328</td>\n",
       "      <td>1.32548</td>\n",
       "      <td>1.36058</td>\n",
       "      <td>0.87464</td>\n",
       "      <td>0.64938</td>\n",
       "      <td>0.48357</td>\n",
       "      <td>0.34139</td>\n",
       "      <td>2.49204</td>\n",
       "      <td>2015</td>\n",
       "      <td>NaN</td>\n",
       "      <td>NaN</td>\n",
       "      <td>NaN</td>\n",
       "      <td>NaN</td>\n",
       "      <td>DNK</td>\n",
       "    </tr>\n",
       "  </tbody>\n",
       "</table>\n",
       "</div>"
      ],
      "text/plain": [
       "       Country          Region  Happiness Rank  Happiness Score  \\\n",
       "0  Switzerland  Western Europe               1            7.587   \n",
       "1      Iceland  Western Europe               2            7.561   \n",
       "2      Denmark  Western Europe               3            7.527   \n",
       "\n",
       "   Standard Error  Economy (GDP per Capita)   Family  \\\n",
       "0         0.03411                   1.39651  1.34951   \n",
       "1         0.04884                   1.30232  1.40223   \n",
       "2         0.03328                   1.32548  1.36058   \n",
       "\n",
       "   Health (Life Expectancy)  Freedom  Trust (Government Corruption)  \\\n",
       "0                   0.94143  0.66557                        0.41978   \n",
       "1                   0.94784  0.62877                        0.14145   \n",
       "2                   0.87464  0.64938                        0.48357   \n",
       "\n",
       "   Generosity  Dystopia Residual  Year  Lower Confidence Interval  \\\n",
       "0     0.29678            2.51738  2015                        NaN   \n",
       "1     0.43630            2.70201  2015                        NaN   \n",
       "2     0.34139            2.49204  2015                        NaN   \n",
       "\n",
       "   Upper Confidence Interval  Whisker.high  Whisker.low Country Code  \n",
       "0                        NaN           NaN          NaN          CHE  \n",
       "1                        NaN           NaN          NaN          ISL  \n",
       "2                        NaN           NaN          NaN          DNK  "
      ]
     },
     "execution_count": 8,
     "metadata": {},
     "output_type": "execute_result"
    }
   ],
   "source": [
    "input_countries = df['Country']\n",
    "\n",
    "countries = {}\n",
    "for country in pycountry.countries:\n",
    "    countries[country.name] = country.alpha_3\n",
    "\n",
    "codes = [countries.get(country, np.nan) for country in input_countries]\n",
    "\n",
    "df['Country Code'] = codes\n",
    "df.head(3)"
   ]
  },
  {
   "cell_type": "markdown",
   "id": "5a2c5438-969c-42cd-994b-0cc531e426b2",
   "metadata": {
    "slideshow": {
     "slide_type": "slide"
    },
    "tags": []
   },
   "source": [
    "### Read Country Shapefile"
   ]
  },
  {
   "cell_type": "markdown",
   "id": "344f8e72-f4fa-48e1-8ace-b36c7ab1c53f",
   "metadata": {
    "tags": []
   },
   "source": [
    "Now that country code have been added to the dataset we will read in the country geometries which come in a shapefile format. We will use the geopandas package to read in this data which convert the geometry column into a geometry type object."
   ]
  },
  {
   "cell_type": "code",
   "execution_count": 9,
   "id": "edab4cc9-049e-4f0e-a0c0-89f3d5d117d8",
   "metadata": {
    "scrolled": true
   },
   "outputs": [
    {
     "name": "stdout",
     "output_type": "stream",
     "text": [
      "258\n"
     ]
    },
    {
     "data": {
      "text/html": [
       "<div>\n",
       "<style scoped>\n",
       "    .dataframe tbody tr th:only-of-type {\n",
       "        vertical-align: middle;\n",
       "    }\n",
       "\n",
       "    .dataframe tbody tr th {\n",
       "        vertical-align: top;\n",
       "    }\n",
       "\n",
       "    .dataframe thead th {\n",
       "        text-align: right;\n",
       "    }\n",
       "</style>\n",
       "<table border=\"1\" class=\"dataframe\">\n",
       "  <thead>\n",
       "    <tr style=\"text-align: right;\">\n",
       "      <th></th>\n",
       "      <th>ADM0_A3</th>\n",
       "      <th>geometry</th>\n",
       "    </tr>\n",
       "  </thead>\n",
       "  <tbody>\n",
       "    <tr>\n",
       "      <th>0</th>\n",
       "      <td>IDN</td>\n",
       "      <td>MULTIPOLYGON (((117.70361 4.16341, 117.70361 4...</td>\n",
       "    </tr>\n",
       "    <tr>\n",
       "      <th>1</th>\n",
       "      <td>MYS</td>\n",
       "      <td>MULTIPOLYGON (((117.70361 4.16341, 117.69711 4...</td>\n",
       "    </tr>\n",
       "    <tr>\n",
       "      <th>2</th>\n",
       "      <td>CHL</td>\n",
       "      <td>MULTIPOLYGON (((-69.51009 -17.50659, -69.50611...</td>\n",
       "    </tr>\n",
       "  </tbody>\n",
       "</table>\n",
       "</div>"
      ],
      "text/plain": [
       "  ADM0_A3                                           geometry\n",
       "0     IDN  MULTIPOLYGON (((117.70361 4.16341, 117.70361 4...\n",
       "1     MYS  MULTIPOLYGON (((117.70361 4.16341, 117.69711 4...\n",
       "2     CHL  MULTIPOLYGON (((-69.51009 -17.50659, -69.50611..."
      ]
     },
     "execution_count": 9,
     "metadata": {},
     "output_type": "execute_result"
    }
   ],
   "source": [
    "shapefile = r'C:\\Users\\mkbau\\OneDrive\\Documents\\GitHub\\ds5100-group2\\data\\ne_10m_admin_0_countries\\ne_10m_admin_0_countries.shp'\n",
    "gdf = gpd.read_file(shapefile)[['ADM0_A3', 'geometry']].to_crs('EPSG:4326')\n",
    "print(len(gdf))\n",
    "gdf.head(3)"
   ]
  },
  {
   "cell_type": "markdown",
   "id": "8098a30a-84e4-4942-8260-876e62f934e3",
   "metadata": {
    "slideshow": {
     "slide_type": "slide"
    },
    "tags": []
   },
   "source": [
    "### Validate Shapefile Data Types"
   ]
  },
  {
   "cell_type": "markdown",
   "id": "bc2cc94e-5b31-46e8-bcf0-39a83ce53bff",
   "metadata": {},
   "source": [
    "The geometries with with their respective country code have been loaded. We will first validate the data types, noting that we want to ensure the geoemtry column is in fact a geometry data type for plotting purposes."
   ]
  },
  {
   "cell_type": "code",
   "execution_count": 10,
   "id": "0d3d9e77-0dbe-47f4-9d98-08f279a4e646",
   "metadata": {},
   "outputs": [
    {
     "data": {
      "text/plain": [
       "ADM0_A3       object\n",
       "geometry    geometry\n",
       "dtype: object"
      ]
     },
     "execution_count": 10,
     "metadata": {},
     "output_type": "execute_result"
    }
   ],
   "source": [
    "gdf.dtypes"
   ]
  },
  {
   "cell_type": "markdown",
   "id": "4ad6cd45-70ee-4fde-b660-b0316dc5529e",
   "metadata": {
    "slideshow": {
     "slide_type": "slide"
    },
    "tags": []
   },
   "source": [
    "### Run Unit Test"
   ]
  },
  {
   "cell_type": "markdown",
   "id": "c6f89cc0-8be0-4d97-b933-0b0b0851a915",
   "metadata": {
    "tags": []
   },
   "source": [
    "In order to further valdate the data we an create a script to run a unittest to compare the data type of the geometry field with a test dataframe that has been hardcoded to have a geometry type column. Using the write file magic command we can create the python script from the notebook and execute it from this notebook as well."
   ]
  },
  {
   "cell_type": "code",
   "execution_count": null,
   "id": "d989999f-4357-4c99-8fb8-a0c3c52aef74",
   "metadata": {},
   "outputs": [],
   "source": [
    "%%writefile unittests.py\n",
    "\n",
    "import os\n",
    "import unittest\n",
    "import geopandas as gpd\n",
    "\n",
    "class GDFTest(unittest.TestCase):\n",
    "   \n",
    "    def test_for_geometry(self):\n",
    "        \"\"\"\n",
    "        Unit test to check if geopandas dataframe geometry \n",
    "        column is in fact a geopandas geometry data dtype type.\n",
    "\n",
    "        Returns\n",
    "        -------\n",
    "        None.\n",
    "\n",
    "        \"\"\"\n",
    "        \n",
    "        fp = os.path.join(os.path.dirname(__file__), r'data\\ne_10m_admin_0_countries\\ne_10m_admin_0_countries.shp')\n",
    "        test_gdf = gpd.read_file(fp)[['geometry']].to_crs('EPSG:4326')\n",
    "        \n",
    "        sample_gdf = gpd.GeoDataFrame({'geometry': []}, crs=\"EPSG:4326\")\n",
    "        self.assertEqual(test_gdf['geometry'].dtype, sample_gdf['geometry'].dtype)\n",
    "        \n",
    "if __name__ == '__main__':\n",
    "    unittest.main()"
   ]
  },
  {
   "cell_type": "code",
   "execution_count": 11,
   "id": "f18afe73-2548-4092-bb4f-9d25f72206cf",
   "metadata": {},
   "outputs": [
    {
     "name": "stderr",
     "output_type": "stream",
     "text": [
      ".\n",
      "----------------------------------------------------------------------\n",
      "Ran 1 test in 0.231s\n",
      "\n",
      "OK\n"
     ]
    }
   ],
   "source": [
    "!python unittests.py"
   ]
  },
  {
   "cell_type": "markdown",
   "id": "7fadf4b8-2f7b-4ee4-ab20-e6e6acf53533",
   "metadata": {
    "slideshow": {
     "slide_type": "slide"
    },
    "tags": []
   },
   "source": [
    "### Merge Happiness Data and Shapefile"
   ]
  },
  {
   "cell_type": "markdown",
   "id": "993ec2e3-a08d-4e1f-8246-b7788c1a844a",
   "metadata": {},
   "source": [
    "We can see that the test passed. Therefore, we will now merge the Happiness data and the country shapefile. By merging the data we can work with one object for our efforts. To merge data we need to supply a key and a method. The key that we will use is the Country Code which we denote as Country Code in the Happiness dataframe and ADMO_A3 in the shapefile. We use the left method to keep all of the attribute from the happiness dataset and also not drop the countries that aren't captured in one dataset but present in the other."
   ]
  },
  {
   "cell_type": "code",
   "execution_count": 19,
   "id": "cc2fbf23-c623-4a0b-945b-cdc50b16adec",
   "metadata": {},
   "outputs": [
    {
     "data": {
      "text/html": [
       "<div>\n",
       "<style scoped>\n",
       "    .dataframe tbody tr th:only-of-type {\n",
       "        vertical-align: middle;\n",
       "    }\n",
       "\n",
       "    .dataframe tbody tr th {\n",
       "        vertical-align: top;\n",
       "    }\n",
       "\n",
       "    .dataframe thead th {\n",
       "        text-align: right;\n",
       "    }\n",
       "</style>\n",
       "<table border=\"1\" class=\"dataframe\">\n",
       "  <thead>\n",
       "    <tr style=\"text-align: right;\">\n",
       "      <th></th>\n",
       "      <th>ADM0_A3</th>\n",
       "      <th>geometry</th>\n",
       "      <th>Country</th>\n",
       "      <th>Region</th>\n",
       "      <th>Happiness Rank</th>\n",
       "      <th>Happiness Score</th>\n",
       "      <th>Standard Error</th>\n",
       "      <th>Economy (GDP per Capita)</th>\n",
       "      <th>Family</th>\n",
       "      <th>Health (Life Expectancy)</th>\n",
       "      <th>Freedom</th>\n",
       "      <th>Trust (Government Corruption)</th>\n",
       "      <th>Generosity</th>\n",
       "      <th>Dystopia Residual</th>\n",
       "      <th>Year</th>\n",
       "      <th>Lower Confidence Interval</th>\n",
       "      <th>Upper Confidence Interval</th>\n",
       "      <th>Whisker.high</th>\n",
       "      <th>Whisker.low</th>\n",
       "      <th>Country Code</th>\n",
       "    </tr>\n",
       "  </thead>\n",
       "  <tbody>\n",
       "    <tr>\n",
       "      <th>0</th>\n",
       "      <td>IDN</td>\n",
       "      <td>MULTIPOLYGON (((117.70361 4.16341, 117.70361 4...</td>\n",
       "      <td>Indonesia</td>\n",
       "      <td>Southeastern Asia</td>\n",
       "      <td>74.0</td>\n",
       "      <td>5.399</td>\n",
       "      <td>0.02596</td>\n",
       "      <td>0.828270</td>\n",
       "      <td>1.087080</td>\n",
       "      <td>0.637930</td>\n",
       "      <td>0.466110</td>\n",
       "      <td>0.000000</td>\n",
       "      <td>0.515350</td>\n",
       "      <td>1.863990</td>\n",
       "      <td>2015.0</td>\n",
       "      <td>NaN</td>\n",
       "      <td>NaN</td>\n",
       "      <td>NaN</td>\n",
       "      <td>NaN</td>\n",
       "      <td>IDN</td>\n",
       "    </tr>\n",
       "    <tr>\n",
       "      <th>1</th>\n",
       "      <td>IDN</td>\n",
       "      <td>MULTIPOLYGON (((117.70361 4.16341, 117.70361 4...</td>\n",
       "      <td>Indonesia</td>\n",
       "      <td>Southeastern Asia</td>\n",
       "      <td>79.0</td>\n",
       "      <td>5.314</td>\n",
       "      <td>NaN</td>\n",
       "      <td>0.951040</td>\n",
       "      <td>0.876250</td>\n",
       "      <td>0.493740</td>\n",
       "      <td>0.392370</td>\n",
       "      <td>0.003220</td>\n",
       "      <td>0.565210</td>\n",
       "      <td>2.031710</td>\n",
       "      <td>2016.0</td>\n",
       "      <td>5.237</td>\n",
       "      <td>5.391</td>\n",
       "      <td>NaN</td>\n",
       "      <td>NaN</td>\n",
       "      <td>IDN</td>\n",
       "    </tr>\n",
       "    <tr>\n",
       "      <th>2</th>\n",
       "      <td>IDN</td>\n",
       "      <td>MULTIPOLYGON (((117.70361 4.16341, 117.70361 4...</td>\n",
       "      <td>Indonesia</td>\n",
       "      <td>NaN</td>\n",
       "      <td>81.0</td>\n",
       "      <td>5.262</td>\n",
       "      <td>NaN</td>\n",
       "      <td>0.995539</td>\n",
       "      <td>1.274445</td>\n",
       "      <td>0.492346</td>\n",
       "      <td>0.443323</td>\n",
       "      <td>0.015317</td>\n",
       "      <td>0.611705</td>\n",
       "      <td>1.429477</td>\n",
       "      <td>2017.0</td>\n",
       "      <td>NaN</td>\n",
       "      <td>NaN</td>\n",
       "      <td>5.352889</td>\n",
       "      <td>5.171112</td>\n",
       "      <td>IDN</td>\n",
       "    </tr>\n",
       "  </tbody>\n",
       "</table>\n",
       "</div>"
      ],
      "text/plain": [
       "  ADM0_A3                                           geometry    Country  \\\n",
       "0     IDN  MULTIPOLYGON (((117.70361 4.16341, 117.70361 4...  Indonesia   \n",
       "1     IDN  MULTIPOLYGON (((117.70361 4.16341, 117.70361 4...  Indonesia   \n",
       "2     IDN  MULTIPOLYGON (((117.70361 4.16341, 117.70361 4...  Indonesia   \n",
       "\n",
       "              Region  Happiness Rank  Happiness Score  Standard Error  \\\n",
       "0  Southeastern Asia            74.0            5.399         0.02596   \n",
       "1  Southeastern Asia            79.0            5.314             NaN   \n",
       "2                NaN            81.0            5.262             NaN   \n",
       "\n",
       "   Economy (GDP per Capita)    Family  Health (Life Expectancy)   Freedom  \\\n",
       "0                  0.828270  1.087080                  0.637930  0.466110   \n",
       "1                  0.951040  0.876250                  0.493740  0.392370   \n",
       "2                  0.995539  1.274445                  0.492346  0.443323   \n",
       "\n",
       "   Trust (Government Corruption)  Generosity  Dystopia Residual    Year  \\\n",
       "0                       0.000000    0.515350           1.863990  2015.0   \n",
       "1                       0.003220    0.565210           2.031710  2016.0   \n",
       "2                       0.015317    0.611705           1.429477  2017.0   \n",
       "\n",
       "   Lower Confidence Interval  Upper Confidence Interval  Whisker.high  \\\n",
       "0                        NaN                        NaN           NaN   \n",
       "1                      5.237                      5.391           NaN   \n",
       "2                        NaN                        NaN      5.352889   \n",
       "\n",
       "   Whisker.low Country Code  \n",
       "0          NaN          IDN  \n",
       "1          NaN          IDN  \n",
       "2     5.171112          IDN  "
      ]
     },
     "execution_count": 19,
     "metadata": {},
     "output_type": "execute_result"
    }
   ],
   "source": [
    "merged = gdf.merge(df, left_on='ADM0_A3', right_on='Country Code', how='left')\n",
    "merged.head(3)"
   ]
  },
  {
   "cell_type": "markdown",
   "id": "3e608244-338e-4f91-8da5-28442af0b158",
   "metadata": {
    "slideshow": {
     "slide_type": "slide"
    },
    "tags": []
   },
   "source": [
    "### Aggregate Happiness Data"
   ]
  },
  {
   "cell_type": "markdown",
   "id": "f467a4a9-009f-4f12-97db-a93507e4c24a",
   "metadata": {},
   "source": [
    "Since we have multiple years for the happiness data we will aggregate the data. The grouping will be based on the country column and we will get the mean. For spatial data, we will need to use the dissolve function to aggregate geometric features."
   ]
  },
  {
   "cell_type": "code",
   "execution_count": 13,
   "id": "221230f6-d24f-4b55-809c-47a309bf9e3f",
   "metadata": {
    "tags": []
   },
   "outputs": [],
   "source": [
    "merged_grouped = merged.dissolve(by = 'ADM0_A3', aggfunc='mean', as_index=False)"
   ]
  },
  {
   "cell_type": "markdown",
   "id": "738108ca-6ade-4911-ab81-3a61c77c4629",
   "metadata": {},
   "source": [
    "We will also check the data types to validate the geometry field type was conserved after the dissolve method was used."
   ]
  },
  {
   "cell_type": "code",
   "execution_count": 14,
   "id": "a2f44bfa-a954-4e1f-be26-95f68f137270",
   "metadata": {},
   "outputs": [
    {
     "data": {
      "text/plain": [
       "ADM0_A3                            object\n",
       "geometry                         geometry\n",
       "Happiness Rank                    float64\n",
       "Happiness Score                   float64\n",
       "Standard Error                    float64\n",
       "Economy (GDP per Capita)          float64\n",
       "Family                            float64\n",
       "Health (Life Expectancy)          float64\n",
       "Freedom                           float64\n",
       "Trust (Government Corruption)     float64\n",
       "Generosity                        float64\n",
       "Dystopia Residual                 float64\n",
       "Year                              float64\n",
       "Lower Confidence Interval         float64\n",
       "Upper Confidence Interval         float64\n",
       "Whisker.high                      float64\n",
       "Whisker.low                       float64\n",
       "dtype: object"
      ]
     },
     "execution_count": 14,
     "metadata": {},
     "output_type": "execute_result"
    }
   ],
   "source": [
    "merged_grouped.dtypes"
   ]
  },
  {
   "cell_type": "markdown",
   "id": "85471b81-152b-4efa-8771-6b9068281f28",
   "metadata": {
    "slideshow": {
     "slide_type": "slide"
    },
    "tags": []
   },
   "source": [
    "### Assess Clean Data"
   ]
  },
  {
   "cell_type": "markdown",
   "id": "552945e8-859a-4821-9866-e2e4bb148f16",
   "metadata": {},
   "source": [
    "The dissolve method worked as intended. Now we will note that in some cases one can see that we do not have the Happiness Score for some countries. We will leave the NaN value and custumize the visualization to show where that missing data is."
   ]
  },
  {
   "cell_type": "code",
   "execution_count": 16,
   "id": "efb9e543-f0ea-432e-81a9-a765e2bd96f6",
   "metadata": {},
   "outputs": [
    {
     "data": {
      "text/html": [
       "<div>\n",
       "<style scoped>\n",
       "    .dataframe tbody tr th:only-of-type {\n",
       "        vertical-align: middle;\n",
       "    }\n",
       "\n",
       "    .dataframe tbody tr th {\n",
       "        vertical-align: top;\n",
       "    }\n",
       "\n",
       "    .dataframe thead th {\n",
       "        text-align: right;\n",
       "    }\n",
       "</style>\n",
       "<table border=\"1\" class=\"dataframe\">\n",
       "  <thead>\n",
       "    <tr style=\"text-align: right;\">\n",
       "      <th></th>\n",
       "      <th>Happiness Score</th>\n",
       "      <th>geometry</th>\n",
       "      <th>ADM0_A3</th>\n",
       "    </tr>\n",
       "  </thead>\n",
       "  <tbody>\n",
       "    <tr>\n",
       "      <th>0</th>\n",
       "      <td>NaN</td>\n",
       "      <td>POLYGON ((-69.99694 12.57758, -69.93639 12.531...</td>\n",
       "      <td>ABW</td>\n",
       "    </tr>\n",
       "    <tr>\n",
       "      <th>1</th>\n",
       "      <td>3.51280</td>\n",
       "      <td>POLYGON ((74.54928 37.00893, 74.54814 37.00164...</td>\n",
       "      <td>AFG</td>\n",
       "    </tr>\n",
       "    <tr>\n",
       "      <th>2</th>\n",
       "      <td>3.87225</td>\n",
       "      <td>MULTIPOLYGON (((11.73851 -16.70582, 11.71579 -...</td>\n",
       "      <td>AGO</td>\n",
       "    </tr>\n",
       "  </tbody>\n",
       "</table>\n",
       "</div>"
      ],
      "text/plain": [
       "   Happiness Score                                           geometry ADM0_A3\n",
       "0              NaN  POLYGON ((-69.99694 12.57758, -69.93639 12.531...     ABW\n",
       "1          3.51280  POLYGON ((74.54928 37.00893, 74.54814 37.00164...     AFG\n",
       "2          3.87225  MULTIPOLYGON (((11.73851 -16.70582, 11.71579 -...     AGO"
      ]
     },
     "execution_count": 16,
     "metadata": {},
     "output_type": "execute_result"
    }
   ],
   "source": [
    "merged_grouped[['Happiness Score', 'geometry', 'ADM0_A3']].head(3)"
   ]
  },
  {
   "cell_type": "markdown",
   "id": "aad18b19-3ec2-4745-9472-ef5a7a5386aa",
   "metadata": {
    "slideshow": {
     "slide_type": "slide"
    },
    "tags": []
   },
   "source": [
    "### Build Choropleth Map"
   ]
  },
  {
   "cell_type": "markdown",
   "id": "5a53998b-c4f6-434f-b7b7-6023e71bc2b2",
   "metadata": {},
   "source": [
    "Now that the data wrangling and cleaning processes are complete we can create the choropleth map to visualize the data."
   ]
  },
  {
   "cell_type": "code",
   "execution_count": 17,
   "id": "223963b9",
   "metadata": {
    "slideshow": {
     "slide_type": "slide"
    },
    "tags": []
   },
   "outputs": [
    {
     "data": {
      "image/png": "[encoded data removed]",
      "text/plain": [
       "<Figure size 1152x720 with 1 Axes>"
      ]
     },
     "metadata": {
      "needs_background": "light"
     },
     "output_type": "display_data"
    }
   ],
   "source": [
    "colors = 9\n",
    "cmap = 'Oranges'\n",
    "figsize = (16, 10)\n",
    "val = 'Happiness Score'\n",
    "title = '{}'.format(val)\n",
    "description = ''''''.strip()\n",
    "\n",
    "ax = merged_grouped.plot(column=val, \n",
    "                 cmap=cmap, \n",
    "                 figsize=figsize, \n",
    "                 scheme='equal_interval', \n",
    "                 k=colors, \n",
    "                 legend=True,\n",
    "                 missing_kwds={\n",
    "                    \"color\": \"lightgrey\",\n",
    "                    \"edgecolor\": \"red\",\n",
    "                    \"hatch\": \"///\",\n",
    "                    \"label\": \"Missing values\"})\n",
    "\n",
    "ax.set_title(title, fontdict={'fontsize': 20}, loc='left')\n",
    "ax.annotate(description, xy=(0.1, 0.1), size=12, xycoords='figure fraction')\n",
    "\n",
    "ax.set_axis_off()\n",
    "ax.get_legend().set_bbox_to_anchor((.12, .4))"
   ]
  },
  {
   "cell_type": "markdown",
   "id": "8fe8af4b-5881-4d0a-8e11-075e2cf302de",
   "metadata": {
    "slideshow": {
     "slide_type": "slide"
    },
    "tags": []
   },
   "source": [
    "### Analyze Choropleth Results"
   ]
  },
  {
   "cell_type": "markdown",
   "id": "9869f3c6-417a-4d6a-bb49-1a199fc35162",
   "metadata": {},
   "source": [
    "We can now reference this map to quickly note which countries are and are not contained on the data, which is useful for quickly resolving any missing data or faciliating discussion about the data. One can conlude there is fair global coverage showing little bias in the collected data"
   ]
  },
  {
   "cell_type": "markdown",
   "id": "79ee7e8e-bdab-4197-a738-42f9843eb03e",
   "metadata": {},
   "source": [
    "Using this visualization method we can see that North American, South American, and European countries as well as Austrialia have higher happiness score, while African, Asian, and some middle eastern countries have lower happiness scores. Furthermore, we see that Antartica Greenland, Russia, and several other countries is various regions do not have any data collected. "
   ]
  },
  {
   "cell_type": "markdown",
   "id": "401f1725-e1d6-49a3-9478-509f5aaa9c3e",
   "metadata": {},
   "source": [
    "This visualization has provided us with an intutative way to quickly analyze the data that was collected. Next we will look more at the data in greater detail to determine what factors amoungst there nations have the strongest correlation to the happiness score. We will built off of the merged_grouped dataframe."
   ]
  },
  {
   "cell_type": "code",
   "execution_count": null,
   "id": "75bb01f5-c17d-416b-bf50-293ae4e94533",
   "metadata": {},
   "outputs": [],
   "source": []
  },
  {
   "cell_type": "markdown",
   "id": "5d5c493b-62ee-464a-9fac-bac1e7d22362",
   "metadata": {},
   "source": [
    "### Clean Dataset"
   ]
  },
  {
   "cell_type": "markdown",
   "id": "3c632695-2d83-497a-8079-2bed5bc14831",
   "metadata": {},
   "source": [
    "Since the dataset contains NA for countries that were not included in the happiness dataset we will need to consider that there are NA values in the dataframe so lets drop those to continue this analysis. "
   ]
  },
  {
   "cell_type": "code",
   "execution_count": 22,
   "id": "d478fc60-f773-406f-9684-ac14a135fb66",
   "metadata": {},
   "outputs": [
    {
     "data": {
      "text/plain": [
       "ADM0_A3                          False\n",
       "geometry                         False\n",
       "Happiness Rank                   False\n",
       "Happiness Score                  False\n",
       "Standard Error                   False\n",
       "Economy (GDP per Capita)         False\n",
       "Family                           False\n",
       "Health (Life Expectancy)         False\n",
       "Freedom                          False\n",
       "Trust (Government Corruption)    False\n",
       "Generosity                       False\n",
       "Dystopia Residual                False\n",
       "Year                             False\n",
       "Lower Confidence Interval        False\n",
       "Upper Confidence Interval        False\n",
       "Whisker.high                     False\n",
       "Whisker.low                      False\n",
       "dtype: bool"
      ]
     },
     "execution_count": 22,
     "metadata": {},
     "output_type": "execute_result"
    }
   ],
   "source": [
    "merged_grouped_clean = merged_grouped.dropna()\n",
    "merged_grouped_clean.isna().any()"
   ]
  },
  {
   "cell_type": "markdown",
   "id": "7f24b566-f86b-4145-85a5-1f2e22d9eddd",
   "metadata": {},
   "source": [
    "### Filter Unneeded Fields"
   ]
  },
  {
   "cell_type": "markdown",
   "id": "394e22aa-da23-4d0c-ab9f-0ccf894ad67b",
   "metadata": {},
   "source": [
    "Some fields in the dataset are also intuatively not good predictors or will have meaningful relationship to happiness score, so we will also consider a subset of the features in this analysis and drop the rest."
   ]
  },
  {
   "cell_type": "code",
   "execution_count": 23,
   "id": "3f882132-97fd-442b-9538-ff452778ee20",
   "metadata": {},
   "outputs": [
    {
     "data": {
      "text/plain": [
       "Index(['Happiness Rank', 'Happiness Score', 'Standard Error',\n",
       "       'Economy (GDP per Capita)', 'Family', 'Health (Life Expectancy)',\n",
       "       'Freedom', 'Trust (Government Corruption)', 'Generosity',\n",
       "       'Dystopia Residual'],\n",
       "      dtype='object')"
      ]
     },
     "execution_count": 23,
     "metadata": {},
     "output_type": "execute_result"
    }
   ],
   "source": [
    "features = [\"Happiness Rank\", \n",
    "            \"Happiness Score\", \n",
    "            \"Standard Error\", \n",
    "            \"Economy (GDP per Capita)\", \n",
    "            \"Family\",\n",
    "            \"Health (Life Expectancy)\", \n",
    "            \"Freedom\",\n",
    "            \"Trust (Government Corruption)\", \n",
    "            \"Generosity\", \n",
    "            \"Dystopia Residual\"]\n",
    "merged_grouped_clean = merged_grouped_clean[features]\n",
    "merged_grouped_clean.columns"
   ]
  },
  {
   "cell_type": "markdown",
   "id": "09f916e8-9704-42f2-8176-5e47b7be6480",
   "metadata": {},
   "source": [
    "### Gather Correlation Stats"
   ]
  },
  {
   "cell_type": "markdown",
   "id": "5dbacf79-b333-4d37-be6e-4d69f45e645b",
   "metadata": {},
   "source": [
    "The first approach to understand the correlations in the dataset is to gather the correlation coefficients to contextually assess the correlation. We can easily find highly correlated values by adding a color map to the matrix of values. Mild color denote a weak correlation."
   ]
  },
  {
   "cell_type": "code",
   "execution_count": 24,
   "id": "19805e54-ec26-4915-8f5f-d804dc937073",
   "metadata": {},
   "outputs": [
    {
     "data": {
      "text/html": [
       "<style type=\"text/css\">\n",
       "#T_9fb64_row0_col0, #T_9fb64_row1_col1, #T_9fb64_row2_col2, #T_9fb64_row3_col3, #T_9fb64_row4_col4, #T_9fb64_row5_col5, #T_9fb64_row6_col6, #T_9fb64_row7_col7, #T_9fb64_row8_col8, #T_9fb64_row9_col9 {\n",
       "  background-color: #b40426;\n",
       "  color: #f1f1f1;\n",
       "}\n",
       "#T_9fb64_row0_col1, #T_9fb64_row0_col3, #T_9fb64_row0_col4, #T_9fb64_row0_col5, #T_9fb64_row0_col6, #T_9fb64_row0_col7, #T_9fb64_row0_col8, #T_9fb64_row0_col9, #T_9fb64_row1_col0, #T_9fb64_row7_col2 {\n",
       "  background-color: #3b4cc0;\n",
       "  color: #f1f1f1;\n",
       "}\n",
       "#T_9fb64_row0_col2 {\n",
       "  background-color: #b5cdfa;\n",
       "  color: #000000;\n",
       "}\n",
       "#T_9fb64_row1_col2 {\n",
       "  background-color: #536edd;\n",
       "  color: #f1f1f1;\n",
       "}\n",
       "#T_9fb64_row1_col3, #T_9fb64_row5_col1 {\n",
       "  background-color: #d55042;\n",
       "  color: #f1f1f1;\n",
       "}\n",
       "#T_9fb64_row1_col4 {\n",
       "  background-color: #de614d;\n",
       "  color: #f1f1f1;\n",
       "}\n",
       "#T_9fb64_row1_col5 {\n",
       "  background-color: #d85646;\n",
       "  color: #f1f1f1;\n",
       "}\n",
       "#T_9fb64_row1_col6 {\n",
       "  background-color: #f39577;\n",
       "  color: #000000;\n",
       "}\n",
       "#T_9fb64_row1_col7 {\n",
       "  background-color: #f6bda2;\n",
       "  color: #000000;\n",
       "}\n",
       "#T_9fb64_row1_col8 {\n",
       "  background-color: #b1cbfc;\n",
       "  color: #000000;\n",
       "}\n",
       "#T_9fb64_row1_col9 {\n",
       "  background-color: #f7b497;\n",
       "  color: #000000;\n",
       "}\n",
       "#T_9fb64_row2_col0 {\n",
       "  background-color: #efcebd;\n",
       "  color: #000000;\n",
       "}\n",
       "#T_9fb64_row2_col1 {\n",
       "  background-color: #bfd3f6;\n",
       "  color: #000000;\n",
       "}\n",
       "#T_9fb64_row2_col3, #T_9fb64_row2_col9 {\n",
       "  background-color: #aec9fc;\n",
       "  color: #000000;\n",
       "}\n",
       "#T_9fb64_row2_col4 {\n",
       "  background-color: #b2ccfb;\n",
       "  color: #000000;\n",
       "}\n",
       "#T_9fb64_row2_col5 {\n",
       "  background-color: #a6c4fe;\n",
       "  color: #000000;\n",
       "}\n",
       "#T_9fb64_row2_col6 {\n",
       "  background-color: #96b7ff;\n",
       "  color: #000000;\n",
       "}\n",
       "#T_9fb64_row2_col7 {\n",
       "  background-color: #5b7ae5;\n",
       "  color: #f1f1f1;\n",
       "}\n",
       "#T_9fb64_row2_col8 {\n",
       "  background-color: #5572df;\n",
       "  color: #f1f1f1;\n",
       "}\n",
       "#T_9fb64_row3_col0, #T_9fb64_row3_col2 {\n",
       "  background-color: #5470de;\n",
       "  color: #f1f1f1;\n",
       "}\n",
       "#T_9fb64_row3_col1 {\n",
       "  background-color: #d24b40;\n",
       "  color: #f1f1f1;\n",
       "}\n",
       "#T_9fb64_row3_col4 {\n",
       "  background-color: #e46e56;\n",
       "  color: #f1f1f1;\n",
       "}\n",
       "#T_9fb64_row3_col5, #T_9fb64_row5_col3 {\n",
       "  background-color: #d44e41;\n",
       "  color: #f1f1f1;\n",
       "}\n",
       "#T_9fb64_row3_col6, #T_9fb64_row7_col5 {\n",
       "  background-color: #f5c0a7;\n",
       "  color: #000000;\n",
       "}\n",
       "#T_9fb64_row3_col7 {\n",
       "  background-color: #f0cdbb;\n",
       "  color: #000000;\n",
       "}\n",
       "#T_9fb64_row3_col8 {\n",
       "  background-color: #7295f4;\n",
       "  color: #f1f1f1;\n",
       "}\n",
       "#T_9fb64_row3_col9, #T_9fb64_row4_col9 {\n",
       "  background-color: #c6d6f1;\n",
       "  color: #000000;\n",
       "}\n",
       "#T_9fb64_row4_col0, #T_9fb64_row6_col2 {\n",
       "  background-color: #5d7ce6;\n",
       "  color: #f1f1f1;\n",
       "}\n",
       "#T_9fb64_row4_col1 {\n",
       "  background-color: #d95847;\n",
       "  color: #f1f1f1;\n",
       "}\n",
       "#T_9fb64_row4_col2 {\n",
       "  background-color: #6384eb;\n",
       "  color: #f1f1f1;\n",
       "}\n",
       "#T_9fb64_row4_col3 {\n",
       "  background-color: #e36c55;\n",
       "  color: #f1f1f1;\n",
       "}\n",
       "#T_9fb64_row4_col5 {\n",
       "  background-color: #eb7d62;\n",
       "  color: #f1f1f1;\n",
       "}\n",
       "#T_9fb64_row4_col6 {\n",
       "  background-color: #f7b599;\n",
       "  color: #000000;\n",
       "}\n",
       "#T_9fb64_row4_col7, #T_9fb64_row6_col8 {\n",
       "  background-color: #dfdbd9;\n",
       "  color: #000000;\n",
       "}\n",
       "#T_9fb64_row4_col8 {\n",
       "  background-color: #9dbdff;\n",
       "  color: #000000;\n",
       "}\n",
       "#T_9fb64_row5_col0 {\n",
       "  background-color: #5673e0;\n",
       "  color: #f1f1f1;\n",
       "}\n",
       "#T_9fb64_row5_col2 {\n",
       "  background-color: #4c66d6;\n",
       "  color: #f1f1f1;\n",
       "}\n",
       "#T_9fb64_row5_col4, #T_9fb64_row6_col1 {\n",
       "  background-color: #ec8165;\n",
       "  color: #f1f1f1;\n",
       "}\n",
       "#T_9fb64_row5_col6 {\n",
       "  background-color: #f7bca1;\n",
       "  color: #000000;\n",
       "}\n",
       "#T_9fb64_row5_col7 {\n",
       "  background-color: #ead4c8;\n",
       "  color: #000000;\n",
       "}\n",
       "#T_9fb64_row5_col8 {\n",
       "  background-color: #81a4fb;\n",
       "  color: #f1f1f1;\n",
       "}\n",
       "#T_9fb64_row5_col9 {\n",
       "  background-color: #d1dae9;\n",
       "  color: #000000;\n",
       "}\n",
       "#T_9fb64_row6_col0 {\n",
       "  background-color: #7a9df8;\n",
       "  color: #f1f1f1;\n",
       "}\n",
       "#T_9fb64_row6_col3 {\n",
       "  background-color: #f7b396;\n",
       "  color: #000000;\n",
       "}\n",
       "#T_9fb64_row6_col4 {\n",
       "  background-color: #f7aa8c;\n",
       "  color: #000000;\n",
       "}\n",
       "#T_9fb64_row6_col5, #T_9fb64_row7_col6 {\n",
       "  background-color: #f7af91;\n",
       "  color: #000000;\n",
       "}\n",
       "#T_9fb64_row6_col7 {\n",
       "  background-color: #f7b89c;\n",
       "  color: #000000;\n",
       "}\n",
       "#T_9fb64_row6_col9 {\n",
       "  background-color: #c1d4f4;\n",
       "  color: #000000;\n",
       "}\n",
       "#T_9fb64_row7_col0 {\n",
       "  background-color: #93b5fe;\n",
       "  color: #000000;\n",
       "}\n",
       "#T_9fb64_row7_col1 {\n",
       "  background-color: #f59c7d;\n",
       "  color: #000000;\n",
       "}\n",
       "#T_9fb64_row7_col3 {\n",
       "  background-color: #f7b79b;\n",
       "  color: #000000;\n",
       "}\n",
       "#T_9fb64_row7_col4 {\n",
       "  background-color: #f1ccb8;\n",
       "  color: #000000;\n",
       "}\n",
       "#T_9fb64_row7_col8 {\n",
       "  background-color: #c4d5f3;\n",
       "  color: #000000;\n",
       "}\n",
       "#T_9fb64_row7_col9 {\n",
       "  background-color: #b7cff9;\n",
       "  color: #000000;\n",
       "}\n",
       "#T_9fb64_row8_col0 {\n",
       "  background-color: #c0d4f5;\n",
       "  color: #000000;\n",
       "}\n",
       "#T_9fb64_row8_col1 {\n",
       "  background-color: #f3c8b2;\n",
       "  color: #000000;\n",
       "}\n",
       "#T_9fb64_row8_col2 {\n",
       "  background-color: #6e90f2;\n",
       "  color: #f1f1f1;\n",
       "}\n",
       "#T_9fb64_row8_col3 {\n",
       "  background-color: #d2dbe8;\n",
       "  color: #000000;\n",
       "}\n",
       "#T_9fb64_row8_col4, #T_9fb64_row9_col3 {\n",
       "  background-color: #e2dad5;\n",
       "  color: #000000;\n",
       "}\n",
       "#T_9fb64_row8_col5 {\n",
       "  background-color: #d8dce2;\n",
       "  color: #000000;\n",
       "}\n",
       "#T_9fb64_row8_col6 {\n",
       "  background-color: #f5c1a9;\n",
       "  color: #000000;\n",
       "}\n",
       "#T_9fb64_row8_col7 {\n",
       "  background-color: #e1dad6;\n",
       "  color: #000000;\n",
       "}\n",
       "#T_9fb64_row8_col9 {\n",
       "  background-color: #a5c3fe;\n",
       "  color: #000000;\n",
       "}\n",
       "#T_9fb64_row9_col0, #T_9fb64_row9_col2 {\n",
       "  background-color: #89acfd;\n",
       "  color: #000000;\n",
       "}\n",
       "#T_9fb64_row9_col1 {\n",
       "  background-color: #f39778;\n",
       "  color: #000000;\n",
       "}\n",
       "#T_9fb64_row9_col4 {\n",
       "  background-color: #dddcdc;\n",
       "  color: #000000;\n",
       "}\n",
       "#T_9fb64_row9_col5 {\n",
       "  background-color: #e8d6cc;\n",
       "  color: #000000;\n",
       "}\n",
       "#T_9fb64_row9_col6 {\n",
       "  background-color: #cbd8ee;\n",
       "  color: #000000;\n",
       "}\n",
       "#T_9fb64_row9_col7 {\n",
       "  background-color: #afcafc;\n",
       "  color: #000000;\n",
       "}\n",
       "#T_9fb64_row9_col8 {\n",
       "  background-color: #6485ec;\n",
       "  color: #f1f1f1;\n",
       "}\n",
       "</style>\n",
       "<table id=\"T_9fb64\">\n",
       "  <thead>\n",
       "    <tr>\n",
       "      <th class=\"blank level0\" >&nbsp;</th>\n",
       "      <th id=\"T_9fb64_level0_col0\" class=\"col_heading level0 col0\" >Happiness Rank</th>\n",
       "      <th id=\"T_9fb64_level0_col1\" class=\"col_heading level0 col1\" >Happiness Score</th>\n",
       "      <th id=\"T_9fb64_level0_col2\" class=\"col_heading level0 col2\" >Standard Error</th>\n",
       "      <th id=\"T_9fb64_level0_col3\" class=\"col_heading level0 col3\" >Economy (GDP per Capita)</th>\n",
       "      <th id=\"T_9fb64_level0_col4\" class=\"col_heading level0 col4\" >Family</th>\n",
       "      <th id=\"T_9fb64_level0_col5\" class=\"col_heading level0 col5\" >Health (Life Expectancy)</th>\n",
       "      <th id=\"T_9fb64_level0_col6\" class=\"col_heading level0 col6\" >Freedom</th>\n",
       "      <th id=\"T_9fb64_level0_col7\" class=\"col_heading level0 col7\" >Trust (Government Corruption)</th>\n",
       "      <th id=\"T_9fb64_level0_col8\" class=\"col_heading level0 col8\" >Generosity</th>\n",
       "      <th id=\"T_9fb64_level0_col9\" class=\"col_heading level0 col9\" >Dystopia Residual</th>\n",
       "    </tr>\n",
       "  </thead>\n",
       "  <tbody>\n",
       "    <tr>\n",
       "      <th id=\"T_9fb64_level0_row0\" class=\"row_heading level0 row0\" >Happiness Rank</th>\n",
       "      <td id=\"T_9fb64_row0_col0\" class=\"data row0 col0\" >1.000000</td>\n",
       "      <td id=\"T_9fb64_row0_col1\" class=\"data row0 col1\" >-0.994681</td>\n",
       "      <td id=\"T_9fb64_row0_col2\" class=\"data row0 col2\" >0.171209</td>\n",
       "      <td id=\"T_9fb64_row0_col3\" class=\"data row0 col3\" >-0.830755</td>\n",
       "      <td id=\"T_9fb64_row0_col4\" class=\"data row0 col4\" >-0.772557</td>\n",
       "      <td id=\"T_9fb64_row0_col5\" class=\"data row0 col5\" >-0.809983</td>\n",
       "      <td id=\"T_9fb64_row0_col6\" class=\"data row0 col6\" >-0.603056</td>\n",
       "      <td id=\"T_9fb64_row0_col7\" class=\"data row0 col7\" >-0.462227</td>\n",
       "      <td id=\"T_9fb64_row0_col8\" class=\"data row0 col8\" >-0.198228</td>\n",
       "      <td id=\"T_9fb64_row0_col9\" class=\"data row0 col9\" >-0.517818</td>\n",
       "    </tr>\n",
       "    <tr>\n",
       "      <th id=\"T_9fb64_level0_row1\" class=\"row_heading level0 row1\" >Happiness Score</th>\n",
       "      <td id=\"T_9fb64_row1_col0\" class=\"data row1 col0\" >-0.994681</td>\n",
       "      <td id=\"T_9fb64_row1_col1\" class=\"data row1 col1\" >1.000000</td>\n",
       "      <td id=\"T_9fb64_row1_col2\" class=\"data row1 col2\" >-0.200267</td>\n",
       "      <td id=\"T_9fb64_row1_col3\" class=\"data row1 col3\" >0.828238</td>\n",
       "      <td id=\"T_9fb64_row1_col4\" class=\"data row1 col4\" >0.776212</td>\n",
       "      <td id=\"T_9fb64_row1_col5\" class=\"data row1 col5\" >0.808089</td>\n",
       "      <td id=\"T_9fb64_row1_col6\" class=\"data row1 col6\" >0.613829</td>\n",
       "      <td id=\"T_9fb64_row1_col7\" class=\"data row1 col7\" >0.488822</td>\n",
       "      <td id=\"T_9fb64_row1_col8\" class=\"data row1 col8\" >0.227536</td>\n",
       "      <td id=\"T_9fb64_row1_col9\" class=\"data row1 col9\" >0.513775</td>\n",
       "    </tr>\n",
       "    <tr>\n",
       "      <th id=\"T_9fb64_level0_row2\" class=\"row_heading level0 row2\" >Standard Error</th>\n",
       "      <td id=\"T_9fb64_row2_col0\" class=\"data row2 col0\" >0.171209</td>\n",
       "      <td id=\"T_9fb64_row2_col1\" class=\"data row2 col1\" >-0.200267</td>\n",
       "      <td id=\"T_9fb64_row2_col2\" class=\"data row2 col2\" >1.000000</td>\n",
       "      <td id=\"T_9fb64_row2_col3\" class=\"data row2 col3\" >-0.199192</td>\n",
       "      <td id=\"T_9fb64_row2_col4\" class=\"data row2 col4\" >-0.137346</td>\n",
       "      <td id=\"T_9fb64_row2_col5\" class=\"data row2 col5\" >-0.228986</td>\n",
       "      <td id=\"T_9fb64_row2_col6\" class=\"data row2 col6\" >-0.162859</td>\n",
       "      <td id=\"T_9fb64_row2_col7\" class=\"data row2 col7\" >-0.307123</td>\n",
       "      <td id=\"T_9fb64_row2_col8\" class=\"data row2 col8\" >-0.093868</td>\n",
       "      <td id=\"T_9fb64_row2_col9\" class=\"data row2 col9\" >0.006648</td>\n",
       "    </tr>\n",
       "    <tr>\n",
       "      <th id=\"T_9fb64_level0_row3\" class=\"row_heading level0 row3\" >Economy (GDP per Capita)</th>\n",
       "      <td id=\"T_9fb64_row3_col0\" class=\"data row3 col0\" >-0.830755</td>\n",
       "      <td id=\"T_9fb64_row3_col1\" class=\"data row3 col1\" >0.828238</td>\n",
       "      <td id=\"T_9fb64_row3_col2\" class=\"data row3 col2\" >-0.199192</td>\n",
       "      <td id=\"T_9fb64_row3_col3\" class=\"data row3 col3\" >1.000000</td>\n",
       "      <td id=\"T_9fb64_row3_col4\" class=\"data row3 col4\" >0.724381</td>\n",
       "      <td id=\"T_9fb64_row3_col5\" class=\"data row3 col5\" >0.831846</td>\n",
       "      <td id=\"T_9fb64_row3_col6\" class=\"data row3 col6\" >0.419137</td>\n",
       "      <td id=\"T_9fb64_row3_col7\" class=\"data row3 col7\" >0.397600</td>\n",
       "      <td id=\"T_9fb64_row3_col8\" class=\"data row3 col8\" >0.011405</td>\n",
       "      <td id=\"T_9fb64_row3_col9\" class=\"data row3 col9\" >0.122107</td>\n",
       "    </tr>\n",
       "    <tr>\n",
       "      <th id=\"T_9fb64_level0_row4\" class=\"row_heading level0 row4\" >Family</th>\n",
       "      <td id=\"T_9fb64_row4_col0\" class=\"data row4 col0\" >-0.772557</td>\n",
       "      <td id=\"T_9fb64_row4_col1\" class=\"data row4 col1\" >0.776212</td>\n",
       "      <td id=\"T_9fb64_row4_col2\" class=\"data row4 col2\" >-0.137346</td>\n",
       "      <td id=\"T_9fb64_row4_col3\" class=\"data row4 col3\" >0.724381</td>\n",
       "      <td id=\"T_9fb64_row4_col4\" class=\"data row4 col4\" >1.000000</td>\n",
       "      <td id=\"T_9fb64_row4_col5\" class=\"data row4 col5\" >0.660673</td>\n",
       "      <td id=\"T_9fb64_row4_col6\" class=\"data row4 col6\" >0.479167</td>\n",
       "      <td id=\"T_9fb64_row4_col7\" class=\"data row4 col7\" >0.284351</td>\n",
       "      <td id=\"T_9fb64_row4_col8\" class=\"data row4 col8\" >0.153792</td>\n",
       "      <td id=\"T_9fb64_row4_col9\" class=\"data row4 col9\" >0.118561</td>\n",
       "    </tr>\n",
       "    <tr>\n",
       "      <th id=\"T_9fb64_level0_row5\" class=\"row_heading level0 row5\" >Health (Life Expectancy)</th>\n",
       "      <td id=\"T_9fb64_row5_col0\" class=\"data row5 col0\" >-0.809983</td>\n",
       "      <td id=\"T_9fb64_row5_col1\" class=\"data row5 col1\" >0.808089</td>\n",
       "      <td id=\"T_9fb64_row5_col2\" class=\"data row5 col2\" >-0.228986</td>\n",
       "      <td id=\"T_9fb64_row5_col3\" class=\"data row5 col3\" >0.831846</td>\n",
       "      <td id=\"T_9fb64_row5_col4\" class=\"data row5 col4\" >0.660673</td>\n",
       "      <td id=\"T_9fb64_row5_col5\" class=\"data row5 col5\" >1.000000</td>\n",
       "      <td id=\"T_9fb64_row5_col6\" class=\"data row5 col6\" >0.447207</td>\n",
       "      <td id=\"T_9fb64_row5_col7\" class=\"data row5 col7\" >0.349222</td>\n",
       "      <td id=\"T_9fb64_row5_col8\" class=\"data row5 col8\" >0.063194</td>\n",
       "      <td id=\"T_9fb64_row5_col9\" class=\"data row5 col9\" >0.175175</td>\n",
       "    </tr>\n",
       "    <tr>\n",
       "      <th id=\"T_9fb64_level0_row6\" class=\"row_heading level0 row6\" >Freedom</th>\n",
       "      <td id=\"T_9fb64_row6_col0\" class=\"data row6 col0\" >-0.603056</td>\n",
       "      <td id=\"T_9fb64_row6_col1\" class=\"data row6 col1\" >0.613829</td>\n",
       "      <td id=\"T_9fb64_row6_col2\" class=\"data row6 col2\" >-0.162859</td>\n",
       "      <td id=\"T_9fb64_row6_col3\" class=\"data row6 col3\" >0.419137</td>\n",
       "      <td id=\"T_9fb64_row6_col4\" class=\"data row6 col4\" >0.479167</td>\n",
       "      <td id=\"T_9fb64_row6_col5\" class=\"data row6 col5\" >0.447207</td>\n",
       "      <td id=\"T_9fb64_row6_col6\" class=\"data row6 col6\" >1.000000</td>\n",
       "      <td id=\"T_9fb64_row6_col7\" class=\"data row6 col7\" >0.509804</td>\n",
       "      <td id=\"T_9fb64_row6_col8\" class=\"data row6 col8\" >0.412893</td>\n",
       "      <td id=\"T_9fb64_row6_col9\" class=\"data row6 col9\" >0.094886</td>\n",
       "    </tr>\n",
       "    <tr>\n",
       "      <th id=\"T_9fb64_level0_row7\" class=\"row_heading level0 row7\" >Trust (Government Corruption)</th>\n",
       "      <td id=\"T_9fb64_row7_col0\" class=\"data row7 col0\" >-0.462227</td>\n",
       "      <td id=\"T_9fb64_row7_col1\" class=\"data row7 col1\" >0.488822</td>\n",
       "      <td id=\"T_9fb64_row7_col2\" class=\"data row7 col2\" >-0.307123</td>\n",
       "      <td id=\"T_9fb64_row7_col3\" class=\"data row7 col3\" >0.397600</td>\n",
       "      <td id=\"T_9fb64_row7_col4\" class=\"data row7 col4\" >0.284351</td>\n",
       "      <td id=\"T_9fb64_row7_col5\" class=\"data row7 col5\" >0.349222</td>\n",
       "      <td id=\"T_9fb64_row7_col6\" class=\"data row7 col6\" >0.509804</td>\n",
       "      <td id=\"T_9fb64_row7_col7\" class=\"data row7 col7\" >1.000000</td>\n",
       "      <td id=\"T_9fb64_row7_col8\" class=\"data row7 col8\" >0.296457</td>\n",
       "      <td id=\"T_9fb64_row7_col9\" class=\"data row7 col9\" >0.049393</td>\n",
       "    </tr>\n",
       "    <tr>\n",
       "      <th id=\"T_9fb64_level0_row8\" class=\"row_heading level0 row8\" >Generosity</th>\n",
       "      <td id=\"T_9fb64_row8_col0\" class=\"data row8 col0\" >-0.198228</td>\n",
       "      <td id=\"T_9fb64_row8_col1\" class=\"data row8 col1\" >0.227536</td>\n",
       "      <td id=\"T_9fb64_row8_col2\" class=\"data row8 col2\" >-0.093868</td>\n",
       "      <td id=\"T_9fb64_row8_col3\" class=\"data row8 col3\" >0.011405</td>\n",
       "      <td id=\"T_9fb64_row8_col4\" class=\"data row8 col4\" >0.153792</td>\n",
       "      <td id=\"T_9fb64_row8_col5\" class=\"data row8 col5\" >0.063194</td>\n",
       "      <td id=\"T_9fb64_row8_col6\" class=\"data row8 col6\" >0.412893</td>\n",
       "      <td id=\"T_9fb64_row8_col7\" class=\"data row8 col7\" >0.296457</td>\n",
       "      <td id=\"T_9fb64_row8_col8\" class=\"data row8 col8\" >1.000000</td>\n",
       "      <td id=\"T_9fb64_row8_col9\" class=\"data row8 col9\" >-0.034683</td>\n",
       "    </tr>\n",
       "    <tr>\n",
       "      <th id=\"T_9fb64_level0_row9\" class=\"row_heading level0 row9\" >Dystopia Residual</th>\n",
       "      <td id=\"T_9fb64_row9_col0\" class=\"data row9 col0\" >-0.517818</td>\n",
       "      <td id=\"T_9fb64_row9_col1\" class=\"data row9 col1\" >0.513775</td>\n",
       "      <td id=\"T_9fb64_row9_col2\" class=\"data row9 col2\" >0.006648</td>\n",
       "      <td id=\"T_9fb64_row9_col3\" class=\"data row9 col3\" >0.122107</td>\n",
       "      <td id=\"T_9fb64_row9_col4\" class=\"data row9 col4\" >0.118561</td>\n",
       "      <td id=\"T_9fb64_row9_col5\" class=\"data row9 col5\" >0.175175</td>\n",
       "      <td id=\"T_9fb64_row9_col6\" class=\"data row9 col6\" >0.094886</td>\n",
       "      <td id=\"T_9fb64_row9_col7\" class=\"data row9 col7\" >0.049393</td>\n",
       "      <td id=\"T_9fb64_row9_col8\" class=\"data row9 col8\" >-0.034683</td>\n",
       "      <td id=\"T_9fb64_row9_col9\" class=\"data row9 col9\" >1.000000</td>\n",
       "    </tr>\n",
       "  </tbody>\n",
       "</table>\n"
      ],
      "text/plain": [
       "<pandas.io.formats.style.Styler at 0x1dc496c7910>"
      ]
     },
     "execution_count": 24,
     "metadata": {},
     "output_type": "execute_result"
    }
   ],
   "source": [
    "corr = merged_grouped_clean.corr().style.background_gradient(cmap='coolwarm')\n",
    "corr"
   ]
  },
  {
   "cell_type": "markdown",
   "id": "a9691449-a6e1-4ca4-ac10-04eac45e4b3d",
   "metadata": {},
   "source": [
    "We can see that Econ, Family, and Health are strongly correlated to the happiness score. addtionally, one can see that there is in fact a strong correlation between family, health, and econ "
   ]
  },
  {
   "cell_type": "markdown",
   "id": "fe8f50cb-339a-443a-82be-de59cea40a78",
   "metadata": {},
   "source": [
    "### Validate Relationships"
   ]
  },
  {
   "cell_type": "markdown",
   "id": "5cd2fc4e-86bf-4aad-ab1a-421430479afa",
   "metadata": {},
   "source": [
    "Now that we have an idea of the most strongly correlated values let's do a scatter plot to validate the relationship."
   ]
  },
  {
   "cell_type": "code",
   "execution_count": 40,
   "id": "8e9df956-3404-4463-a341-511a9ae427a1",
   "metadata": {},
   "outputs": [
    {
     "data": {
      "image/png": "[encoded data removed]",
      "text/plain": [
       "<Figure size 432x288 with 1 Axes>"
      ]
     },
     "metadata": {
      "needs_background": "light"
     },
     "output_type": "display_data"
    },
    {
     "data": {
      "image/png": "[encoded data removed]",
      "text/plain": [
       "<Figure size 432x288 with 1 Axes>"
      ]
     },
     "metadata": {
      "needs_background": "light"
     },
     "output_type": "display_data"
    },
    {
     "data": {
      "image/png": "[encoded data removed]",
      "text/plain": [
       "<Figure size 432x288 with 1 Axes>"
      ]
     },
     "metadata": {
      "needs_background": "light"
     },
     "output_type": "display_data"
    }
   ],
   "source": [
    "correlated = ['Health (Life Expectancy)', 'Family', 'Economy (GDP per Capita)']\n",
    "for c in correlated:\n",
    "    ax = merged_grouped_clean.plot.scatter(x=c, y=\"Happiness Score\")"
   ]
  },
  {
   "cell_type": "markdown",
   "id": "fff8a863-3724-4735-af65-e7dc61386a00",
   "metadata": {},
   "source": [
    "The variable that we noted as strongly correlated do in fact have a positve linear relationship to the happiness score."
   ]
  },
  {
   "cell_type": "markdown",
   "id": "d682b61d-9890-4fee-9137-a949dd662793",
   "metadata": {},
   "source": [
    "Since we see that there is a linear relationship between these variables we can now utilties them to determine if they are good predictors of happiness score."
   ]
  },
  {
   "cell_type": "markdown",
   "id": "84dbff0d-71d3-4f23-aa25-d3f20599dca4",
   "metadata": {},
   "source": [
    "## Generate a Model"
   ]
  },
  {
   "cell_type": "markdown",
   "id": "5042007f-3ae5-4766-a739-7260aee03918",
   "metadata": {},
   "source": [
    "Using the sklearn package we can quickly create a multiple linear regression model for the stringly variables we discovered to the happiness score."
   ]
  },
  {
   "cell_type": "code",
   "execution_count": 114,
   "id": "c7eab0e8-7d3d-4145-9985-6ca91eae80cc",
   "metadata": {},
   "outputs": [],
   "source": [
    "from sklearn.model_selection import train_test_split, GridSearchCV\n",
    "from sklearn.preprocessing import StandardScaler\n",
    "from sklearn.ensemble import RandomForestRegressor\n",
    "from sklearn.linear_model import LinearRegression\n",
    "from sklearn import metrics\n",
    "from yellowbrick.regressor import ResidualsPlot"
   ]
  },
  {
   "cell_type": "code",
   "execution_count": 98,
   "id": "6633873f-ed88-4224-89f0-2015775ddf63",
   "metadata": {},
   "outputs": [],
   "source": [
    "df =  merged_grouped_clean"
   ]
  },
  {
   "cell_type": "markdown",
   "id": "281a07eb-1c2d-4a03-85c6-c064eccf9289",
   "metadata": {},
   "source": [
    "### Set Predictors and Response Variables"
   ]
  },
  {
   "cell_type": "code",
   "execution_count": 99,
   "id": "d5534bef-d119-419f-ae17-c3ee83178e24",
   "metadata": {},
   "outputs": [],
   "source": [
    "pred = ['Health (Life Expectancy)', 'Family', 'Economy (GDP per Capita)']\n",
    "resp = ['Happiness Score']"
   ]
  },
  {
   "cell_type": "code",
   "execution_count": 100,
   "id": "23cc2f65-d106-485e-a50f-3e2bf6906bf0",
   "metadata": {},
   "outputs": [
    {
     "data": {
      "text/plain": [
       "Index(['Health (Life Expectancy)', 'Family', 'Economy (GDP per Capita)',\n",
       "       'Happiness Score'],\n",
       "      dtype='object')"
      ]
     },
     "execution_count": 100,
     "metadata": {},
     "output_type": "execute_result"
    }
   ],
   "source": [
    "keep_cols = pred + resp\n",
    "df = df[keep_cols]\n",
    "df = df.dropna()\n",
    "df.columns"
   ]
  },
  {
   "cell_type": "markdown",
   "id": "6498ebd6-5ca6-4acc-a19a-c539db9709f7",
   "metadata": {},
   "source": [
    "### Split Train and Test Data"
   ]
  },
  {
   "cell_type": "code",
   "execution_count": 101,
   "id": "e8e623d5-75f9-4b7f-9964-7a6a399eaede",
   "metadata": {},
   "outputs": [],
   "source": [
    "X = df[pred]\n",
    "y = df[resp]"
   ]
  },
  {
   "cell_type": "code",
   "execution_count": 102,
   "id": "6c4991e7-111e-49e3-a1b1-2d8cf2ff505c",
   "metadata": {},
   "outputs": [],
   "source": [
    "X_train, X_test, y_train, y_test = train_test_split(X, y, test_size=0.2, random_state=0)"
   ]
  },
  {
   "cell_type": "markdown",
   "id": "54f6c175-84d5-4047-bd46-8a3b1e7ea8b2",
   "metadata": {},
   "source": [
    "### Feature Scaling"
   ]
  },
  {
   "cell_type": "code",
   "execution_count": 103,
   "id": "276e6e57-b065-44f0-901e-c29b6f46e48b",
   "metadata": {},
   "outputs": [],
   "source": [
    "sc = StandardScaler()\n",
    "X_train = sc.fit_transform(X_train)\n",
    "X_test = sc.transform(X_test)"
   ]
  },
  {
   "cell_type": "markdown",
   "id": "d8cebcc2-7a2f-4236-87f3-42d6c153dcae",
   "metadata": {},
   "source": [
    "### Formating"
   ]
  },
  {
   "cell_type": "code",
   "execution_count": 104,
   "id": "cda9b776-b697-4697-be9a-34dc90593dc6",
   "metadata": {},
   "outputs": [],
   "source": [
    "y_train = y_train.values.ravel()\n",
    "y_test = y_test.values.ravel()"
   ]
  },
  {
   "cell_type": "code",
   "execution_count": 105,
   "id": "f8d055fb-5918-4ce6-97a1-6d7657cd4abe",
   "metadata": {},
   "outputs": [
    {
     "name": "stdout",
     "output_type": "stream",
     "text": [
      "(103, 3) (103,)\n",
      "(26, 3) (26,)\n"
     ]
    }
   ],
   "source": [
    "print(X_train.shape, y_train.shape)\n",
    "print(X_test.shape, y_test.shape)"
   ]
  },
  {
   "cell_type": "markdown",
   "id": "0067a282-ad25-49d8-b4ba-2d7abc5f60ad",
   "metadata": {},
   "source": [
    "### Fit Model "
   ]
  },
  {
   "cell_type": "code",
   "execution_count": 106,
   "id": "baaa7a5c-4975-4449-9141-d2197b375dc6",
   "metadata": {},
   "outputs": [
    {
     "data": {
      "text/plain": [
       "LinearRegression()"
      ]
     },
     "execution_count": 106,
     "metadata": {},
     "output_type": "execute_result"
    }
   ],
   "source": [
    "mlr = LinearRegression()\n",
    "mlr.fit(X_train, y_train)"
   ]
  },
  {
   "cell_type": "code",
   "execution_count": 107,
   "id": "a8f30724-16fd-4ff1-bf3f-1ae55ffba9cd",
   "metadata": {},
   "outputs": [
    {
     "name": "stdout",
     "output_type": "stream",
     "text": [
      "Intercept:  5.4062873802123335\n",
      "Coefficients:\n"
     ]
    },
    {
     "data": {
      "text/plain": [
       "[('Health (Life Expectancy)', 0.37503441517401287),\n",
       " ('Family', 0.36371255821120796),\n",
       " ('Economy (GDP per Capita)', 0.399976782949404)]"
      ]
     },
     "execution_count": 107,
     "metadata": {},
     "output_type": "execute_result"
    }
   ],
   "source": [
    "print(\"Intercept: \", mlr.intercept_)\n",
    "print(\"Coefficients:\")\n",
    "list(zip(X, mlr.coef_))"
   ]
  },
  {
   "cell_type": "code",
   "execution_count": 108,
   "id": "80c8e1d9-78f1-450a-84b6-8da409d76400",
   "metadata": {},
   "outputs": [
    {
     "name": "stdout",
     "output_type": "stream",
     "text": [
      "Intercept:  5.4062873802123335\n",
      "Coefficients:\n"
     ]
    },
    {
     "data": {
      "text/plain": [
       "[('Health (Life Expectancy)', 0.37503441517401287),\n",
       " ('Family', 0.36371255821120796),\n",
       " ('Economy (GDP per Capita)', 0.399976782949404)]"
      ]
     },
     "execution_count": 108,
     "metadata": {},
     "output_type": "execute_result"
    }
   ],
   "source": [
    "print(\"Intercept: \", mlr.intercept_)\n",
    "print(\"Coefficients:\")\n",
    "list(zip(X, mlr.coef_))"
   ]
  },
  {
   "cell_type": "markdown",
   "id": "a4283187-390a-4a5a-b7a4-b5ee654381d3",
   "metadata": {},
   "source": [
    "### Prediction of Test Set"
   ]
  },
  {
   "cell_type": "code",
   "execution_count": 109,
   "id": "dd415db6-fb23-4c94-82ae-c9555ae3bc28",
   "metadata": {},
   "outputs": [
    {
     "name": "stdout",
     "output_type": "stream",
     "text": [
      "Prediction for test set: [5.17221457 5.68156958 5.3798602  5.35657082 5.46486961 6.16378408\n",
      " 3.55981143 4.58036993 4.77954328 6.64419568 6.68773641 6.61198495\n",
      " 4.75282493 6.32394418 6.72524323 5.70382411 5.23103182 5.52165812\n",
      " 6.07939576 5.83135634 6.85821641 6.34053323 5.68288838 5.66373627\n",
      " 4.2448651  5.61867028]\n"
     ]
    }
   ],
   "source": [
    "y_pred_mlr= mlr.predict(X_test)\n",
    "print(\"Prediction for test set: {}\".format(y_pred_mlr))"
   ]
  },
  {
   "cell_type": "markdown",
   "id": "2fd60a1a-18d8-4369-91eb-4b26b92c071a",
   "metadata": {},
   "source": [
    "### Check Results"
   ]
  },
  {
   "cell_type": "code",
   "execution_count": 110,
   "id": "480e9bf6-eee4-466b-8468-3e0ae15ebd77",
   "metadata": {},
   "outputs": [
    {
     "data": {
      "text/html": [
       "<div>\n",
       "<style scoped>\n",
       "    .dataframe tbody tr th:only-of-type {\n",
       "        vertical-align: middle;\n",
       "    }\n",
       "\n",
       "    .dataframe tbody tr th {\n",
       "        vertical-align: top;\n",
       "    }\n",
       "\n",
       "    .dataframe thead th {\n",
       "        text-align: right;\n",
       "    }\n",
       "</style>\n",
       "<table border=\"1\" class=\"dataframe\">\n",
       "  <thead>\n",
       "    <tr style=\"text-align: right;\">\n",
       "      <th></th>\n",
       "      <th>Actual value</th>\n",
       "      <th>Predicted value</th>\n",
       "    </tr>\n",
       "  </thead>\n",
       "  <tbody>\n",
       "    <tr>\n",
       "      <th>0</th>\n",
       "      <td>4.4078</td>\n",
       "      <td>5.172215</td>\n",
       "    </tr>\n",
       "    <tr>\n",
       "      <th>1</th>\n",
       "      <td>5.2190</td>\n",
       "      <td>5.681570</td>\n",
       "    </tr>\n",
       "    <tr>\n",
       "      <th>2</th>\n",
       "      <td>6.1242</td>\n",
       "      <td>5.379860</td>\n",
       "    </tr>\n",
       "    <tr>\n",
       "      <th>3</th>\n",
       "      <td>5.2520</td>\n",
       "      <td>5.356571</td>\n",
       "    </tr>\n",
       "    <tr>\n",
       "      <th>4</th>\n",
       "      <td>5.2292</td>\n",
       "      <td>5.464870</td>\n",
       "    </tr>\n",
       "  </tbody>\n",
       "</table>\n",
       "</div>"
      ],
      "text/plain": [
       "   Actual value  Predicted value\n",
       "0        4.4078         5.172215\n",
       "1        5.2190         5.681570\n",
       "2        6.1242         5.379860\n",
       "3        5.2520         5.356571\n",
       "4        5.2292         5.464870"
      ]
     },
     "execution_count": 110,
     "metadata": {},
     "output_type": "execute_result"
    }
   ],
   "source": [
    "mlr_diff = pd.DataFrame({'Actual value': y_test, 'Predicted value': y_pred_mlr})\n",
    "mlr_diff.head()"
   ]
  },
  {
   "cell_type": "markdown",
   "id": "dd492086-54ec-4ff5-b108-01c93627f229",
   "metadata": {},
   "source": [
    "### Model Evaluation"
   ]
  },
  {
   "cell_type": "code",
   "execution_count": 111,
   "id": "32bb943a-bf68-4d50-bcbd-bab8b3e56ae5",
   "metadata": {},
   "outputs": [
    {
     "name": "stdout",
     "output_type": "stream",
     "text": [
      "R squared (train): 0.80\n",
      "R squared (test): 0.65\n",
      "Mean Absolute Error: 0.4627284020869538\n",
      "Mean Square Error: 0.2931579195467489\n",
      "Root Mean Square Error: 0.5414405965078246\n"
     ]
    }
   ],
   "source": [
    "meanAbErr = metrics.mean_absolute_error(y_test, y_pred_mlr)\n",
    "meanSqErr = metrics.mean_squared_error(y_test, y_pred_mlr)\n",
    "rootMeanSqErr = np.sqrt(metrics.mean_squared_error(y_test, y_pred_mlr))\n",
    "print('R squared (train): {:.2f}'.format(mlr.score(X_train, y_train)))\n",
    "print('R squared (test): {:.2f}'.format(mlr.score(X_test, y_test)))\n",
    "print('Mean Absolute Error:', meanAbErr)\n",
    "print('Mean Square Error:', meanSqErr)\n",
    "print('Root Mean Square Error:', rootMeanSqErr)"
   ]
  },
  {
   "cell_type": "markdown",
   "id": "854027a9-7b78-4cbb-ac7e-88b9b9ceb520",
   "metadata": {},
   "source": [
    "### Validate Model Assumptions"
   ]
  },
  {
   "cell_type": "code",
   "execution_count": 113,
   "id": "56ae5041-76b1-4813-810e-b6e1c5f05e16",
   "metadata": {},
   "outputs": [
    {
     "data": {
      "image/png": "[encoded data removed]",
      "text/plain": [
       "<Figure size 576x396 with 2 Axes>"
      ]
     },
     "metadata": {},
     "output_type": "display_data"
    },
    {
     "data": {
      "text/plain": [
       "<AxesSubplot:title={'center':'Residuals for LinearRegression Model'}, xlabel='Predicted Value', ylabel='Residuals'>"
      ]
     },
     "execution_count": 113,
     "metadata": {},
     "output_type": "execute_result"
    }
   ],
   "source": [
    "visualizer = ResidualsPlot(mlr, hist=False, qqplot=True)\n",
    "visualizer.fit(X_train, y_train)  # Fit the training data to the visualizer\n",
    "visualizer.score(X_test, y_test)  # Evaluate the model on the test data\n",
    "visualizer.show()  "
   ]
  },
  {
   "cell_type": "code",
   "execution_count": 18,
   "id": "c24320ed-0ee2-43e7-8b59-4de2c6706c0e",
   "metadata": {},
   "outputs": [
    {
     "name": "stderr",
     "output_type": "stream",
     "text": [
      "[NbConvertApp] Converting notebook happiness_analysis_ds.ipynb to slides\n",
      "[NbConvertApp] Writing 910440 bytes to happiness_analysis_ds.slides.html\n"
     ]
    }
   ],
   "source": [
    "!jupyter nbconvert happiness_analysis_ds.ipynb --to slides"
   ]
  },
  {
   "cell_type": "code",
   "execution_count": null,
   "id": "db79acff-d74a-49ea-8e19-94825c40f8b2",
   "metadata": {},
   "outputs": [],
   "source": []
  }
 ],
 "metadata": {
  "kernelspec": {
   "display_name": "Python 3 (ipykernel)",
   "language": "python",
   "name": "python3"
  },
  "language_info": {
   "codemirror_mode": {
    "name": "ipython",
    "version": 3
   },
   "file_extension": ".py",
   "mimetype": "text/x-python",
   "name": "python",
   "nbconvert_exporter": "python",
   "pygments_lexer": "ipython3",
   "version": "3.10.2"
  }
 },
 "nbformat": 4,
 "nbformat_minor": 5
}
