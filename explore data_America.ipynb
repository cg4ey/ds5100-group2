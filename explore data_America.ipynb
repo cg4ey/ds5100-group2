{
 "cells": [
  {
   "cell_type": "code",
   "execution_count": 2,
   "id": "6715cd98-bb8c-4a66-9b1a-77f955ed9a17",
   "metadata": {},
   "outputs": [],
   "source": [
    "import numpy as np\n",
    "import pandas as pd\n",
    "import matplotlib.pyplot as plt"
   ]
  },
  {
   "cell_type": "code",
   "execution_count": 3,
   "id": "d0f93a0f-b07b-4ac8-be7a-2d029a72e7c9",
   "metadata": {},
   "outputs": [
    {
     "data": {
      "text/html": [
       "<div>\n",
       "<style scoped>\n",
       "    .dataframe tbody tr th:only-of-type {\n",
       "        vertical-align: middle;\n",
       "    }\n",
       "\n",
       "    .dataframe tbody tr th {\n",
       "        vertical-align: top;\n",
       "    }\n",
       "\n",
       "    .dataframe thead th {\n",
       "        text-align: right;\n",
       "    }\n",
       "</style>\n",
       "<table border=\"1\" class=\"dataframe\">\n",
       "  <thead>\n",
       "    <tr style=\"text-align: right;\">\n",
       "      <th></th>\n",
       "      <th>Unnamed: 0</th>\n",
       "      <th>Country</th>\n",
       "      <th>Region</th>\n",
       "      <th>Happiness Rank</th>\n",
       "      <th>Happiness Score</th>\n",
       "      <th>Standard Error</th>\n",
       "      <th>Economy (GDP per Capita)</th>\n",
       "      <th>Family</th>\n",
       "      <th>Health (Life Expectancy)</th>\n",
       "      <th>Freedom</th>\n",
       "      <th>Trust (Government Corruption)</th>\n",
       "      <th>Generosity</th>\n",
       "      <th>Dystopia Residual</th>\n",
       "      <th>Year</th>\n",
       "      <th>Lower Confidence Interval</th>\n",
       "      <th>Upper Confidence Interval</th>\n",
       "      <th>Whisker.high</th>\n",
       "      <th>Whisker.low</th>\n",
       "    </tr>\n",
       "  </thead>\n",
       "  <tbody>\n",
       "    <tr>\n",
       "      <th>0</th>\n",
       "      <td>0</td>\n",
       "      <td>Switzerland</td>\n",
       "      <td>Western Europe</td>\n",
       "      <td>1</td>\n",
       "      <td>7.587</td>\n",
       "      <td>0.03411</td>\n",
       "      <td>1.39651</td>\n",
       "      <td>1.34951</td>\n",
       "      <td>0.94143</td>\n",
       "      <td>0.66557</td>\n",
       "      <td>0.41978</td>\n",
       "      <td>0.29678</td>\n",
       "      <td>2.51738</td>\n",
       "      <td>2015</td>\n",
       "      <td>NaN</td>\n",
       "      <td>NaN</td>\n",
       "      <td>NaN</td>\n",
       "      <td>NaN</td>\n",
       "    </tr>\n",
       "    <tr>\n",
       "      <th>1</th>\n",
       "      <td>1</td>\n",
       "      <td>Iceland</td>\n",
       "      <td>Western Europe</td>\n",
       "      <td>2</td>\n",
       "      <td>7.561</td>\n",
       "      <td>0.04884</td>\n",
       "      <td>1.30232</td>\n",
       "      <td>1.40223</td>\n",
       "      <td>0.94784</td>\n",
       "      <td>0.62877</td>\n",
       "      <td>0.14145</td>\n",
       "      <td>0.43630</td>\n",
       "      <td>2.70201</td>\n",
       "      <td>2015</td>\n",
       "      <td>NaN</td>\n",
       "      <td>NaN</td>\n",
       "      <td>NaN</td>\n",
       "      <td>NaN</td>\n",
       "    </tr>\n",
       "    <tr>\n",
       "      <th>2</th>\n",
       "      <td>2</td>\n",
       "      <td>Denmark</td>\n",
       "      <td>Western Europe</td>\n",
       "      <td>3</td>\n",
       "      <td>7.527</td>\n",
       "      <td>0.03328</td>\n",
       "      <td>1.32548</td>\n",
       "      <td>1.36058</td>\n",
       "      <td>0.87464</td>\n",
       "      <td>0.64938</td>\n",
       "      <td>0.48357</td>\n",
       "      <td>0.34139</td>\n",
       "      <td>2.49204</td>\n",
       "      <td>2015</td>\n",
       "      <td>NaN</td>\n",
       "      <td>NaN</td>\n",
       "      <td>NaN</td>\n",
       "      <td>NaN</td>\n",
       "    </tr>\n",
       "    <tr>\n",
       "      <th>3</th>\n",
       "      <td>3</td>\n",
       "      <td>Norway</td>\n",
       "      <td>Western Europe</td>\n",
       "      <td>4</td>\n",
       "      <td>7.522</td>\n",
       "      <td>0.03880</td>\n",
       "      <td>1.45900</td>\n",
       "      <td>1.33095</td>\n",
       "      <td>0.88521</td>\n",
       "      <td>0.66973</td>\n",
       "      <td>0.36503</td>\n",
       "      <td>0.34699</td>\n",
       "      <td>2.46531</td>\n",
       "      <td>2015</td>\n",
       "      <td>NaN</td>\n",
       "      <td>NaN</td>\n",
       "      <td>NaN</td>\n",
       "      <td>NaN</td>\n",
       "    </tr>\n",
       "  </tbody>\n",
       "</table>\n",
       "</div>"
      ],
      "text/plain": [
       "   Unnamed: 0      Country          Region  Happiness Rank  Happiness Score  \\\n",
       "0           0  Switzerland  Western Europe               1            7.587   \n",
       "1           1      Iceland  Western Europe               2            7.561   \n",
       "2           2      Denmark  Western Europe               3            7.527   \n",
       "3           3       Norway  Western Europe               4            7.522   \n",
       "\n",
       "   Standard Error  Economy (GDP per Capita)   Family  \\\n",
       "0         0.03411                   1.39651  1.34951   \n",
       "1         0.04884                   1.30232  1.40223   \n",
       "2         0.03328                   1.32548  1.36058   \n",
       "3         0.03880                   1.45900  1.33095   \n",
       "\n",
       "   Health (Life Expectancy)  Freedom  Trust (Government Corruption)  \\\n",
       "0                   0.94143  0.66557                        0.41978   \n",
       "1                   0.94784  0.62877                        0.14145   \n",
       "2                   0.87464  0.64938                        0.48357   \n",
       "3                   0.88521  0.66973                        0.36503   \n",
       "\n",
       "   Generosity  Dystopia Residual  Year  Lower Confidence Interval  \\\n",
       "0     0.29678            2.51738  2015                        NaN   \n",
       "1     0.43630            2.70201  2015                        NaN   \n",
       "2     0.34139            2.49204  2015                        NaN   \n",
       "3     0.34699            2.46531  2015                        NaN   \n",
       "\n",
       "   Upper Confidence Interval  Whisker.high  Whisker.low  \n",
       "0                        NaN           NaN          NaN  \n",
       "1                        NaN           NaN          NaN  \n",
       "2                        NaN           NaN          NaN  \n",
       "3                        NaN           NaN          NaN  "
      ]
     },
     "execution_count": 3,
     "metadata": {},
     "output_type": "execute_result"
    }
   ],
   "source": [
    "data= pd.read_csv(\"data_all.csv\")\n",
    "data.head(4)"
   ]
  },
  {
   "cell_type": "code",
   "execution_count": 4,
   "id": "5aa99390-5d0d-4dfb-bddf-95aff85bf996",
   "metadata": {},
   "outputs": [],
   "source": [
    "#create seperate yearly file \n",
    "Y_2015=data[data[\"Year\"]==2015]\n",
    "Y_2016=data[data[\"Year\"]==2016]\n",
    "Y_2017=data[data[\"Year\"]==2017]\n",
    "Y_2018=data[data[\"Year\"]==2018]\n",
    "Y_2019=data[data[\"Year\"]==2019]\n",
    "Y_2020=data[data[\"Year\"]==2020]\n",
    "Y_2021=data[data[\"Year\"]==2021]\n",
    "Y_2022=data[data[\"Year\"]==2022]"
   ]
  },
  {
   "cell_type": "code",
   "execution_count": 5,
   "id": "52ecc8fc-49cd-48d7-8344-846336c72bcf",
   "metadata": {},
   "outputs": [
    {
     "data": {
      "text/html": [
       "<div>\n",
       "<style scoped>\n",
       "    .dataframe tbody tr th:only-of-type {\n",
       "        vertical-align: middle;\n",
       "    }\n",
       "\n",
       "    .dataframe tbody tr th {\n",
       "        vertical-align: top;\n",
       "    }\n",
       "\n",
       "    .dataframe thead th {\n",
       "        text-align: right;\n",
       "    }\n",
       "</style>\n",
       "<table border=\"1\" class=\"dataframe\">\n",
       "  <thead>\n",
       "    <tr style=\"text-align: right;\">\n",
       "      <th></th>\n",
       "      <th>Unnamed: 0</th>\n",
       "      <th>Country</th>\n",
       "      <th>Region</th>\n",
       "      <th>Happiness Rank</th>\n",
       "      <th>Happiness Score</th>\n",
       "      <th>Standard Error</th>\n",
       "      <th>Economy (GDP per Capita)</th>\n",
       "      <th>Family</th>\n",
       "      <th>Health (Life Expectancy)</th>\n",
       "      <th>Freedom</th>\n",
       "      <th>Trust (Government Corruption)</th>\n",
       "      <th>Generosity</th>\n",
       "      <th>Dystopia Residual</th>\n",
       "      <th>Year</th>\n",
       "      <th>Lower Confidence Interval</th>\n",
       "      <th>Upper Confidence Interval</th>\n",
       "      <th>Whisker.high</th>\n",
       "      <th>Whisker.low</th>\n",
       "    </tr>\n",
       "  </thead>\n",
       "  <tbody>\n",
       "    <tr>\n",
       "      <th>782</th>\n",
       "      <td>782</td>\n",
       "      <td>Finland</td>\n",
       "      <td>Western Europe</td>\n",
       "      <td>1</td>\n",
       "      <td>7.8087</td>\n",
       "      <td>NaN</td>\n",
       "      <td>1.285190</td>\n",
       "      <td>1.499526</td>\n",
       "      <td>0.961271</td>\n",
       "      <td>0.662317</td>\n",
       "      <td>0.477857</td>\n",
       "      <td>0.159670</td>\n",
       "      <td>2.762835</td>\n",
       "      <td>2020</td>\n",
       "      <td>NaN</td>\n",
       "      <td>NaN</td>\n",
       "      <td>NaN</td>\n",
       "      <td>NaN</td>\n",
       "    </tr>\n",
       "    <tr>\n",
       "      <th>783</th>\n",
       "      <td>783</td>\n",
       "      <td>Denmark</td>\n",
       "      <td>Western Europe</td>\n",
       "      <td>2</td>\n",
       "      <td>7.6456</td>\n",
       "      <td>NaN</td>\n",
       "      <td>1.326949</td>\n",
       "      <td>1.503449</td>\n",
       "      <td>0.979333</td>\n",
       "      <td>0.665040</td>\n",
       "      <td>0.495260</td>\n",
       "      <td>0.242793</td>\n",
       "      <td>2.432741</td>\n",
       "      <td>2020</td>\n",
       "      <td>NaN</td>\n",
       "      <td>NaN</td>\n",
       "      <td>NaN</td>\n",
       "      <td>NaN</td>\n",
       "    </tr>\n",
       "    <tr>\n",
       "      <th>784</th>\n",
       "      <td>784</td>\n",
       "      <td>Switzerland</td>\n",
       "      <td>Western Europe</td>\n",
       "      <td>3</td>\n",
       "      <td>7.5599</td>\n",
       "      <td>NaN</td>\n",
       "      <td>1.390774</td>\n",
       "      <td>1.472403</td>\n",
       "      <td>1.040533</td>\n",
       "      <td>0.628954</td>\n",
       "      <td>0.407946</td>\n",
       "      <td>0.269056</td>\n",
       "      <td>2.350267</td>\n",
       "      <td>2020</td>\n",
       "      <td>NaN</td>\n",
       "      <td>NaN</td>\n",
       "      <td>NaN</td>\n",
       "      <td>NaN</td>\n",
       "    </tr>\n",
       "    <tr>\n",
       "      <th>785</th>\n",
       "      <td>785</td>\n",
       "      <td>Iceland</td>\n",
       "      <td>Western Europe</td>\n",
       "      <td>4</td>\n",
       "      <td>7.5045</td>\n",
       "      <td>NaN</td>\n",
       "      <td>1.326502</td>\n",
       "      <td>1.547567</td>\n",
       "      <td>1.000843</td>\n",
       "      <td>0.661981</td>\n",
       "      <td>0.144541</td>\n",
       "      <td>0.362330</td>\n",
       "      <td>2.460688</td>\n",
       "      <td>2020</td>\n",
       "      <td>NaN</td>\n",
       "      <td>NaN</td>\n",
       "      <td>NaN</td>\n",
       "      <td>NaN</td>\n",
       "    </tr>\n",
       "    <tr>\n",
       "      <th>786</th>\n",
       "      <td>786</td>\n",
       "      <td>Norway</td>\n",
       "      <td>Western Europe</td>\n",
       "      <td>5</td>\n",
       "      <td>7.4880</td>\n",
       "      <td>NaN</td>\n",
       "      <td>1.424207</td>\n",
       "      <td>1.495173</td>\n",
       "      <td>1.008072</td>\n",
       "      <td>0.670201</td>\n",
       "      <td>0.434101</td>\n",
       "      <td>0.287985</td>\n",
       "      <td>2.168266</td>\n",
       "      <td>2020</td>\n",
       "      <td>NaN</td>\n",
       "      <td>NaN</td>\n",
       "      <td>NaN</td>\n",
       "      <td>NaN</td>\n",
       "    </tr>\n",
       "    <tr>\n",
       "      <th>...</th>\n",
       "      <td>...</td>\n",
       "      <td>...</td>\n",
       "      <td>...</td>\n",
       "      <td>...</td>\n",
       "      <td>...</td>\n",
       "      <td>...</td>\n",
       "      <td>...</td>\n",
       "      <td>...</td>\n",
       "      <td>...</td>\n",
       "      <td>...</td>\n",
       "      <td>...</td>\n",
       "      <td>...</td>\n",
       "      <td>...</td>\n",
       "      <td>...</td>\n",
       "      <td>...</td>\n",
       "      <td>...</td>\n",
       "      <td>...</td>\n",
       "      <td>...</td>\n",
       "    </tr>\n",
       "    <tr>\n",
       "      <th>930</th>\n",
       "      <td>930</td>\n",
       "      <td>Central African Republic</td>\n",
       "      <td>Sub-Saharan Africa</td>\n",
       "      <td>149</td>\n",
       "      <td>3.4759</td>\n",
       "      <td>NaN</td>\n",
       "      <td>0.041072</td>\n",
       "      <td>0.000000</td>\n",
       "      <td>0.000000</td>\n",
       "      <td>0.292814</td>\n",
       "      <td>0.028265</td>\n",
       "      <td>0.253513</td>\n",
       "      <td>2.860198</td>\n",
       "      <td>2020</td>\n",
       "      <td>NaN</td>\n",
       "      <td>NaN</td>\n",
       "      <td>NaN</td>\n",
       "      <td>NaN</td>\n",
       "    </tr>\n",
       "    <tr>\n",
       "      <th>931</th>\n",
       "      <td>931</td>\n",
       "      <td>Rwanda</td>\n",
       "      <td>Sub-Saharan Africa</td>\n",
       "      <td>150</td>\n",
       "      <td>3.3123</td>\n",
       "      <td>NaN</td>\n",
       "      <td>0.343243</td>\n",
       "      <td>0.522876</td>\n",
       "      <td>0.572383</td>\n",
       "      <td>0.604088</td>\n",
       "      <td>0.485542</td>\n",
       "      <td>0.235705</td>\n",
       "      <td>0.548445</td>\n",
       "      <td>2020</td>\n",
       "      <td>NaN</td>\n",
       "      <td>NaN</td>\n",
       "      <td>NaN</td>\n",
       "      <td>NaN</td>\n",
       "    </tr>\n",
       "    <tr>\n",
       "      <th>932</th>\n",
       "      <td>932</td>\n",
       "      <td>Zimbabwe</td>\n",
       "      <td>Sub-Saharan Africa</td>\n",
       "      <td>151</td>\n",
       "      <td>3.2992</td>\n",
       "      <td>NaN</td>\n",
       "      <td>0.425564</td>\n",
       "      <td>1.047835</td>\n",
       "      <td>0.375038</td>\n",
       "      <td>0.377405</td>\n",
       "      <td>0.080929</td>\n",
       "      <td>0.151349</td>\n",
       "      <td>0.841031</td>\n",
       "      <td>2020</td>\n",
       "      <td>NaN</td>\n",
       "      <td>NaN</td>\n",
       "      <td>NaN</td>\n",
       "      <td>NaN</td>\n",
       "    </tr>\n",
       "    <tr>\n",
       "      <th>933</th>\n",
       "      <td>933</td>\n",
       "      <td>South Sudan</td>\n",
       "      <td>Sub-Saharan Africa</td>\n",
       "      <td>152</td>\n",
       "      <td>2.8166</td>\n",
       "      <td>NaN</td>\n",
       "      <td>0.289083</td>\n",
       "      <td>0.553279</td>\n",
       "      <td>0.208809</td>\n",
       "      <td>0.065609</td>\n",
       "      <td>0.111157</td>\n",
       "      <td>0.209935</td>\n",
       "      <td>1.378751</td>\n",
       "      <td>2020</td>\n",
       "      <td>NaN</td>\n",
       "      <td>NaN</td>\n",
       "      <td>NaN</td>\n",
       "      <td>NaN</td>\n",
       "    </tr>\n",
       "    <tr>\n",
       "      <th>934</th>\n",
       "      <td>934</td>\n",
       "      <td>Afghanistan</td>\n",
       "      <td>South Asia</td>\n",
       "      <td>153</td>\n",
       "      <td>2.5669</td>\n",
       "      <td>NaN</td>\n",
       "      <td>0.300706</td>\n",
       "      <td>0.356434</td>\n",
       "      <td>0.266052</td>\n",
       "      <td>0.000000</td>\n",
       "      <td>0.001226</td>\n",
       "      <td>0.135235</td>\n",
       "      <td>1.507236</td>\n",
       "      <td>2020</td>\n",
       "      <td>NaN</td>\n",
       "      <td>NaN</td>\n",
       "      <td>NaN</td>\n",
       "      <td>NaN</td>\n",
       "    </tr>\n",
       "  </tbody>\n",
       "</table>\n",
       "<p>153 rows × 18 columns</p>\n",
       "</div>"
      ],
      "text/plain": [
       "     Unnamed: 0                   Country              Region  Happiness Rank  \\\n",
       "782         782                   Finland      Western Europe               1   \n",
       "783         783                   Denmark      Western Europe               2   \n",
       "784         784               Switzerland      Western Europe               3   \n",
       "785         785                   Iceland      Western Europe               4   \n",
       "786         786                    Norway      Western Europe               5   \n",
       "..          ...                       ...                 ...             ...   \n",
       "930         930  Central African Republic  Sub-Saharan Africa             149   \n",
       "931         931                    Rwanda  Sub-Saharan Africa             150   \n",
       "932         932                  Zimbabwe  Sub-Saharan Africa             151   \n",
       "933         933               South Sudan  Sub-Saharan Africa             152   \n",
       "934         934               Afghanistan          South Asia             153   \n",
       "\n",
       "     Happiness Score  Standard Error  Economy (GDP per Capita)    Family  \\\n",
       "782           7.8087             NaN                  1.285190  1.499526   \n",
       "783           7.6456             NaN                  1.326949  1.503449   \n",
       "784           7.5599             NaN                  1.390774  1.472403   \n",
       "785           7.5045             NaN                  1.326502  1.547567   \n",
       "786           7.4880             NaN                  1.424207  1.495173   \n",
       "..               ...             ...                       ...       ...   \n",
       "930           3.4759             NaN                  0.041072  0.000000   \n",
       "931           3.3123             NaN                  0.343243  0.522876   \n",
       "932           3.2992             NaN                  0.425564  1.047835   \n",
       "933           2.8166             NaN                  0.289083  0.553279   \n",
       "934           2.5669             NaN                  0.300706  0.356434   \n",
       "\n",
       "     Health (Life Expectancy)   Freedom  Trust (Government Corruption)  \\\n",
       "782                  0.961271  0.662317                       0.477857   \n",
       "783                  0.979333  0.665040                       0.495260   \n",
       "784                  1.040533  0.628954                       0.407946   \n",
       "785                  1.000843  0.661981                       0.144541   \n",
       "786                  1.008072  0.670201                       0.434101   \n",
       "..                        ...       ...                            ...   \n",
       "930                  0.000000  0.292814                       0.028265   \n",
       "931                  0.572383  0.604088                       0.485542   \n",
       "932                  0.375038  0.377405                       0.080929   \n",
       "933                  0.208809  0.065609                       0.111157   \n",
       "934                  0.266052  0.000000                       0.001226   \n",
       "\n",
       "     Generosity  Dystopia Residual  Year  Lower Confidence Interval  \\\n",
       "782    0.159670           2.762835  2020                        NaN   \n",
       "783    0.242793           2.432741  2020                        NaN   \n",
       "784    0.269056           2.350267  2020                        NaN   \n",
       "785    0.362330           2.460688  2020                        NaN   \n",
       "786    0.287985           2.168266  2020                        NaN   \n",
       "..          ...                ...   ...                        ...   \n",
       "930    0.253513           2.860198  2020                        NaN   \n",
       "931    0.235705           0.548445  2020                        NaN   \n",
       "932    0.151349           0.841031  2020                        NaN   \n",
       "933    0.209935           1.378751  2020                        NaN   \n",
       "934    0.135235           1.507236  2020                        NaN   \n",
       "\n",
       "     Upper Confidence Interval  Whisker.high  Whisker.low  \n",
       "782                        NaN           NaN          NaN  \n",
       "783                        NaN           NaN          NaN  \n",
       "784                        NaN           NaN          NaN  \n",
       "785                        NaN           NaN          NaN  \n",
       "786                        NaN           NaN          NaN  \n",
       "..                         ...           ...          ...  \n",
       "930                        NaN           NaN          NaN  \n",
       "931                        NaN           NaN          NaN  \n",
       "932                        NaN           NaN          NaN  \n",
       "933                        NaN           NaN          NaN  \n",
       "934                        NaN           NaN          NaN  \n",
       "\n",
       "[153 rows x 18 columns]"
      ]
     },
     "execution_count": 5,
     "metadata": {},
     "output_type": "execute_result"
    }
   ],
   "source": [
    "#add year column\n",
    "data_2020 = data[data[\"Year\"]==2020]\n",
    "data_2020"
   ]
  },
  {
   "cell_type": "markdown",
   "id": "0c11975b-2026-4f47-9e8f-4c60a2b5f206",
   "metadata": {},
   "source": [
    "## Explore overall data by histogram"
   ]
  },
  {
   "cell_type": "code",
   "execution_count": 6,
   "id": "0575a525-bf1d-43e4-8c4d-0043187ad31e",
   "metadata": {},
   "outputs": [
    {
     "data": {
      "text/plain": [
       "<function matplotlib.pyplot.show(close=None, block=None)>"
      ]
     },
     "execution_count": 6,
     "metadata": {},
     "output_type": "execute_result"
    },
    {
     "data": {
      "image/png": "[encoded data removed]",
      "text/plain": [
       "<Figure size 432x288 with 1 Axes>"
      ]
     },
     "metadata": {
      "needs_background": "light"
     },
     "output_type": "display_data"
    }
   ],
   "source": [
    "plt.hist(Y_2015[\"Happiness Score\"])\n",
    "plt.show"
   ]
  },
  {
   "cell_type": "code",
   "execution_count": 7,
   "id": "9ee465a6-5c37-45dd-a1f1-bd77559d48f1",
   "metadata": {},
   "outputs": [
    {
     "data": {
      "text/plain": [
       "<function matplotlib.pyplot.show(close=None, block=None)>"
      ]
     },
     "execution_count": 7,
     "metadata": {},
     "output_type": "execute_result"
    },
    {
     "data": {
      "image/png": "[encoded data removed]",
      "text/plain": [
       "<Figure size 432x288 with 1 Axes>"
      ]
     },
     "metadata": {
      "needs_background": "light"
     },
     "output_type": "display_data"
    }
   ],
   "source": [
    "plt.hist(Y_2016[\"Happiness Score\"])\n",
    "plt.show"
   ]
  },
  {
   "cell_type": "code",
   "execution_count": 8,
   "id": "56aed682-bef6-494d-8c3f-e9041b982745",
   "metadata": {},
   "outputs": [
    {
     "data": {
      "text/plain": [
       "<function matplotlib.pyplot.show(close=None, block=None)>"
      ]
     },
     "execution_count": 8,
     "metadata": {},
     "output_type": "execute_result"
    },
    {
     "data": {
      "image/png": "[encoded data removed]",
      "text/plain": [
       "<Figure size 432x288 with 1 Axes>"
      ]
     },
     "metadata": {
      "needs_background": "light"
     },
     "output_type": "display_data"
    }
   ],
   "source": [
    "plt.hist(Y_2017[\"Happiness Score\"])\n",
    "plt.show"
   ]
  },
  {
   "cell_type": "code",
   "execution_count": 9,
   "id": "716c611d-b64f-4151-bc8f-35d1203b9592",
   "metadata": {},
   "outputs": [
    {
     "data": {
      "text/plain": [
       "<function matplotlib.pyplot.show(close=None, block=None)>"
      ]
     },
     "execution_count": 9,
     "metadata": {},
     "output_type": "execute_result"
    },
    {
     "data": {
      "image/png": "[encoded data removed]",
      "text/plain": [
       "<Figure size 432x288 with 1 Axes>"
      ]
     },
     "metadata": {
      "needs_background": "light"
     },
     "output_type": "display_data"
    }
   ],
   "source": [
    "plt.hist(Y_2018[\"Happiness Score\"])\n",
    "plt.show"
   ]
  },
  {
   "cell_type": "code",
   "execution_count": 10,
   "id": "9fdfa574-b98a-411e-a9ce-137a30be1543",
   "metadata": {},
   "outputs": [
    {
     "data": {
      "text/plain": [
       "<function matplotlib.pyplot.show(close=None, block=None)>"
      ]
     },
     "execution_count": 10,
     "metadata": {},
     "output_type": "execute_result"
    },
    {
     "data": {
      "image/png": "[encoded data removed]",
      "text/plain": [
       "<Figure size 432x288 with 1 Axes>"
      ]
     },
     "metadata": {
      "needs_background": "light"
     },
     "output_type": "display_data"
    }
   ],
   "source": [
    "plt.hist(Y_2019[\"Happiness Score\"])\n",
    "plt.show"
   ]
  },
  {
   "cell_type": "code",
   "execution_count": 11,
   "id": "94a747eb-6e40-41f5-a2c4-b7235102ac59",
   "metadata": {},
   "outputs": [
    {
     "data": {
      "text/plain": [
       "Year\n",
       "2015    5.375734\n",
       "2016    5.382185\n",
       "2017    5.354019\n",
       "2018    5.375917\n",
       "2019    5.407096\n",
       "2020    5.473240\n",
       "2021    5.532839\n",
       "2022    5.553575\n",
       "Name: Happiness Score, dtype: float64"
      ]
     },
     "execution_count": 11,
     "metadata": {},
     "output_type": "execute_result"
    }
   ],
   "source": [
    "data.groupby(\"Year\")[\"Happiness Score\"].mean()"
   ]
  },
  {
   "cell_type": "code",
   "execution_count": 12,
   "id": "b9ecb3b9-d0ac-4ea3-ab46-a8f12ee5626f",
   "metadata": {},
   "outputs": [
    {
     "data": {
      "text/html": [
       "<div>\n",
       "<style scoped>\n",
       "    .dataframe tbody tr th:only-of-type {\n",
       "        vertical-align: middle;\n",
       "    }\n",
       "\n",
       "    .dataframe tbody tr th {\n",
       "        vertical-align: top;\n",
       "    }\n",
       "\n",
       "    .dataframe thead th {\n",
       "        text-align: right;\n",
       "    }\n",
       "</style>\n",
       "<table border=\"1\" class=\"dataframe\">\n",
       "  <thead>\n",
       "    <tr style=\"text-align: right;\">\n",
       "      <th></th>\n",
       "      <th>Unnamed: 0</th>\n",
       "      <th>Country</th>\n",
       "      <th>Region</th>\n",
       "      <th>Happiness Rank</th>\n",
       "      <th>Happiness Score</th>\n",
       "      <th>Standard Error</th>\n",
       "      <th>Economy (GDP per Capita)</th>\n",
       "      <th>Family</th>\n",
       "      <th>Health (Life Expectancy)</th>\n",
       "      <th>Freedom</th>\n",
       "      <th>Trust (Government Corruption)</th>\n",
       "      <th>Generosity</th>\n",
       "      <th>Dystopia Residual</th>\n",
       "      <th>Year</th>\n",
       "      <th>Lower Confidence Interval</th>\n",
       "      <th>Upper Confidence Interval</th>\n",
       "      <th>Whisker.high</th>\n",
       "      <th>Whisker.low</th>\n",
       "    </tr>\n",
       "  </thead>\n",
       "  <tbody>\n",
       "    <tr>\n",
       "      <th>0</th>\n",
       "      <td>0</td>\n",
       "      <td>Switzerland</td>\n",
       "      <td>Western Europe</td>\n",
       "      <td>1</td>\n",
       "      <td>7.587</td>\n",
       "      <td>0.03411</td>\n",
       "      <td>1.39651</td>\n",
       "      <td>1.34951</td>\n",
       "      <td>0.94143</td>\n",
       "      <td>0.66557</td>\n",
       "      <td>0.41978</td>\n",
       "      <td>0.29678</td>\n",
       "      <td>2.51738</td>\n",
       "      <td>2015</td>\n",
       "      <td>NaN</td>\n",
       "      <td>NaN</td>\n",
       "      <td>NaN</td>\n",
       "      <td>NaN</td>\n",
       "    </tr>\n",
       "    <tr>\n",
       "      <th>1</th>\n",
       "      <td>1</td>\n",
       "      <td>Iceland</td>\n",
       "      <td>Western Europe</td>\n",
       "      <td>2</td>\n",
       "      <td>7.561</td>\n",
       "      <td>0.04884</td>\n",
       "      <td>1.30232</td>\n",
       "      <td>1.40223</td>\n",
       "      <td>0.94784</td>\n",
       "      <td>0.62877</td>\n",
       "      <td>0.14145</td>\n",
       "      <td>0.43630</td>\n",
       "      <td>2.70201</td>\n",
       "      <td>2015</td>\n",
       "      <td>NaN</td>\n",
       "      <td>NaN</td>\n",
       "      <td>NaN</td>\n",
       "      <td>NaN</td>\n",
       "    </tr>\n",
       "    <tr>\n",
       "      <th>2</th>\n",
       "      <td>2</td>\n",
       "      <td>Denmark</td>\n",
       "      <td>Western Europe</td>\n",
       "      <td>3</td>\n",
       "      <td>7.527</td>\n",
       "      <td>0.03328</td>\n",
       "      <td>1.32548</td>\n",
       "      <td>1.36058</td>\n",
       "      <td>0.87464</td>\n",
       "      <td>0.64938</td>\n",
       "      <td>0.48357</td>\n",
       "      <td>0.34139</td>\n",
       "      <td>2.49204</td>\n",
       "      <td>2015</td>\n",
       "      <td>NaN</td>\n",
       "      <td>NaN</td>\n",
       "      <td>NaN</td>\n",
       "      <td>NaN</td>\n",
       "    </tr>\n",
       "  </tbody>\n",
       "</table>\n",
       "</div>"
      ],
      "text/plain": [
       "   Unnamed: 0      Country          Region  Happiness Rank  Happiness Score  \\\n",
       "0           0  Switzerland  Western Europe               1            7.587   \n",
       "1           1      Iceland  Western Europe               2            7.561   \n",
       "2           2      Denmark  Western Europe               3            7.527   \n",
       "\n",
       "   Standard Error  Economy (GDP per Capita)   Family  \\\n",
       "0         0.03411                   1.39651  1.34951   \n",
       "1         0.04884                   1.30232  1.40223   \n",
       "2         0.03328                   1.32548  1.36058   \n",
       "\n",
       "   Health (Life Expectancy)  Freedom  Trust (Government Corruption)  \\\n",
       "0                   0.94143  0.66557                        0.41978   \n",
       "1                   0.94784  0.62877                        0.14145   \n",
       "2                   0.87464  0.64938                        0.48357   \n",
       "\n",
       "   Generosity  Dystopia Residual  Year  Lower Confidence Interval  \\\n",
       "0     0.29678            2.51738  2015                        NaN   \n",
       "1     0.43630            2.70201  2015                        NaN   \n",
       "2     0.34139            2.49204  2015                        NaN   \n",
       "\n",
       "   Upper Confidence Interval  Whisker.high  Whisker.low  \n",
       "0                        NaN           NaN          NaN  \n",
       "1                        NaN           NaN          NaN  \n",
       "2                        NaN           NaN          NaN  "
      ]
     },
     "execution_count": 12,
     "metadata": {},
     "output_type": "execute_result"
    }
   ],
   "source": [
    "#\n",
    "data_top = data[data[\"Happiness Rank\"]<=20]\n",
    "data_top20 = data_top[[\"Happiness Rank\",\"Country\",\"Year\"]]\n",
    "data_top.head(3)\n"
   ]
  },
  {
   "cell_type": "markdown",
   "id": "b310541b-2061-4984-912c-45a764e36bf3",
   "metadata": {},
   "source": [
    "## America's deep dive"
   ]
  },
  {
   "cell_type": "code",
   "execution_count": 14,
   "id": "be0a6fde-490f-40e1-89c2-17dcbbbf228a",
   "metadata": {},
   "outputs": [],
   "source": [
    "data_america = data[data[\"Country\"]==\"United States\"]"
   ]
  },
  {
   "cell_type": "code",
   "execution_count": 26,
   "id": "20c12477-ee8c-44ce-bd59-b9b08357acc4",
   "metadata": {},
   "outputs": [
    {
     "data": {
      "text/html": [
       "<div>\n",
       "<style scoped>\n",
       "    .dataframe tbody tr th:only-of-type {\n",
       "        vertical-align: middle;\n",
       "    }\n",
       "\n",
       "    .dataframe tbody tr th {\n",
       "        vertical-align: top;\n",
       "    }\n",
       "\n",
       "    .dataframe thead th {\n",
       "        text-align: right;\n",
       "    }\n",
       "</style>\n",
       "<table border=\"1\" class=\"dataframe\">\n",
       "  <thead>\n",
       "    <tr style=\"text-align: right;\">\n",
       "      <th></th>\n",
       "      <th>Economy (GDP per Capita)</th>\n",
       "      <th>Family</th>\n",
       "      <th>Health (Life Expectancy)</th>\n",
       "      <th>Freedom</th>\n",
       "      <th>Trust (Government Corruption)</th>\n",
       "      <th>Generosity</th>\n",
       "    </tr>\n",
       "  </thead>\n",
       "  <tbody>\n",
       "    <tr>\n",
       "      <th>14</th>\n",
       "      <td>1.394510</td>\n",
       "      <td>1.247110</td>\n",
       "      <td>0.861790</td>\n",
       "      <td>0.546040</td>\n",
       "      <td>0.158900</td>\n",
       "      <td>0.401050</td>\n",
       "    </tr>\n",
       "    <tr>\n",
       "      <th>170</th>\n",
       "      <td>1.507960</td>\n",
       "      <td>1.047820</td>\n",
       "      <td>0.779000</td>\n",
       "      <td>0.481630</td>\n",
       "      <td>0.148680</td>\n",
       "      <td>0.410770</td>\n",
       "    </tr>\n",
       "    <tr>\n",
       "      <th>328</th>\n",
       "      <td>1.546259</td>\n",
       "      <td>1.419921</td>\n",
       "      <td>0.774287</td>\n",
       "      <td>0.505741</td>\n",
       "      <td>0.135639</td>\n",
       "      <td>0.392579</td>\n",
       "    </tr>\n",
       "  </tbody>\n",
       "</table>\n",
       "</div>"
      ],
      "text/plain": [
       "     Economy (GDP per Capita)    Family  Health (Life Expectancy)   Freedom  \\\n",
       "14                   1.394510  1.247110                  0.861790  0.546040   \n",
       "170                  1.507960  1.047820                  0.779000  0.481630   \n",
       "328                  1.546259  1.419921                  0.774287  0.505741   \n",
       "\n",
       "     Trust (Government Corruption)  Generosity  \n",
       "14                        0.158900    0.401050  \n",
       "170                       0.148680    0.410770  \n",
       "328                       0.135639    0.392579  "
      ]
     },
     "execution_count": 26,
     "metadata": {},
     "output_type": "execute_result"
    }
   ],
   "source": [
    "data_america.head(3)\n",
    "data_america_boxdata=data_america[[\"Economy (GDP per Capita)\",\"Family\",\"Health (Life Expectancy)\",\"Freedom\",\"Trust (Government Corruption)\",\"Generosity\"]]\n",
    "data_america_boxdata.head(3)"
   ]
  },
  {
   "cell_type": "code",
   "execution_count": 27,
   "id": "0aa4d77e-6ce2-4f48-bb4e-83bcfc65fac2",
   "metadata": {},
   "outputs": [
    {
     "data": {
      "image/png": "[encoded data removed]",
      "text/plain": [
       "<Figure size 792x432 with 1 Axes>"
      ]
     },
     "metadata": {
      "needs_background": "light"
     },
     "output_type": "display_data"
    }
   ],
   "source": [
    "import matplotlib.pyplot as plt\n",
    "import numpy as np\n",
    "\n",
    "fig = plt.figure(figsize =(11, 6))\n",
    " \n",
    "# Creating axes instance\n",
    "ax = fig.add_axes([0, 0, 1, 1])\n",
    " \n",
    "# Creating plot\n",
    "bp = ax.boxplot(data_america_boxdata)\n",
    "\n",
    "plt.xticks([1,2,3,4,5,6], ['Economy (GDP per Capita)', 'Family', 'Health (Life Expectancy)','Freedom','Trust (Government Corruption)','Generosity'])\n",
    " \n",
    "# show plot\n",
    "plt.show()\n"
   ]
  },
  {
   "cell_type": "code",
   "execution_count": 20,
   "id": "dfafdfb9-6fbc-402f-ab72-2fc338d9b000",
   "metadata": {},
   "outputs": [
    {
     "data": {
      "image/png": "[encoded data removed]",
      "text/plain": [
       "<Figure size 432x288 with 1 Axes>"
      ]
     },
     "metadata": {
      "needs_background": "light"
     },
     "output_type": "display_data"
    }
   ],
   "source": [
    "x = data_america['Year']\n",
    "y = data_america['Economy (GDP per Capita)']\n",
    "plt.bar(x, y, color ='green',\n",
    "        width = 0.4)\n",
    " \n",
    "plt.xlabel(\"Year\")\n",
    "plt.ylabel(\"Economy (GDP per Capita)\")\n",
    "plt.title(\"America Economy Score Trend\")\n",
    "plt.show()"
   ]
  },
  {
   "cell_type": "code",
   "execution_count": 21,
   "id": "38c4cbd8-970c-4cdb-b2b0-29384962d1f7",
   "metadata": {},
   "outputs": [
    {
     "data": {
      "image/png": "[encoded data removed]",
      "text/plain": [
       "<Figure size 432x288 with 1 Axes>"
      ]
     },
     "metadata": {
      "needs_background": "light"
     },
     "output_type": "display_data"
    }
   ],
   "source": [
    "x = data_america['Year']\n",
    "y = data_america['Family']\n",
    "plt.bar(x, y, color ='green',\n",
    "        width = 0.4)\n",
    " \n",
    "plt.xlabel(\"Year\")\n",
    "plt.ylabel(\"Family\")\n",
    "plt.title(\"America Family Score Trend\")\n",
    "plt.show()"
   ]
  },
  {
   "cell_type": "code",
   "execution_count": 22,
   "id": "da60e4e8-e31f-4778-8b99-44b1663bf236",
   "metadata": {},
   "outputs": [
    {
     "data": {
      "image/png": "[encoded data removed]",
      "text/plain": [
       "<Figure size 432x288 with 1 Axes>"
      ]
     },
     "metadata": {
      "needs_background": "light"
     },
     "output_type": "display_data"
    }
   ],
   "source": [
    "x = data_america['Year']\n",
    "y = data_america['Health (Life Expectancy)']\n",
    "plt.bar(x, y, color ='green',\n",
    "        width = 0.4)\n",
    " \n",
    "plt.xlabel(\"Year\")\n",
    "plt.ylabel(\"Health (Life Expectancy)\")\n",
    "plt.title(\"America Health Score Trend\")\n",
    "plt.show()"
   ]
  },
  {
   "cell_type": "code",
   "execution_count": 23,
   "id": "323c4c3b-fb30-4307-ad16-4c305672808d",
   "metadata": {},
   "outputs": [
    {
     "data": {
      "image/png": "[encoded data removed]",
      "text/plain": [
       "<Figure size 432x288 with 1 Axes>"
      ]
     },
     "metadata": {
      "needs_background": "light"
     },
     "output_type": "display_data"
    }
   ],
   "source": [
    "x = data_america['Year']\n",
    "y = data_america['Freedom']\n",
    "plt.bar(x, y, color ='green',\n",
    "        width = 0.4)\n",
    " \n",
    "plt.xlabel(\"Year\")\n",
    "plt.ylabel(\"Freedom\")\n",
    "plt.title(\"America Freedom Score Trend\")\n",
    "plt.show()"
   ]
  },
  {
   "cell_type": "code",
   "execution_count": 24,
   "id": "8255248b-3a27-4c69-bf87-57840cd7a327",
   "metadata": {},
   "outputs": [
    {
     "data": {
      "image/png": "[encoded data removed]",
      "text/plain": [
       "<Figure size 432x288 with 1 Axes>"
      ]
     },
     "metadata": {
      "needs_background": "light"
     },
     "output_type": "display_data"
    }
   ],
   "source": [
    "x = data_america['Year']\n",
    "y = data_america['Trust (Government Corruption)']\n",
    "plt.bar(x, y, color ='green',\n",
    "        width = 0.4)\n",
    " \n",
    "plt.xlabel(\"Year\")\n",
    "plt.ylabel(\"Trust (Government Corruption)\")\n",
    "plt.title(\"America Trust Score Trend\")\n",
    "plt.show()"
   ]
  },
  {
   "cell_type": "code",
   "execution_count": 21,
   "id": "95ac92bc-b52e-4cc8-bf42-8e65aea7e6e4",
   "metadata": {},
   "outputs": [
    {
     "data": {
      "image/png": "[encoded data removed]",
      "text/plain": [
       "<Figure size 432x288 with 1 Axes>"
      ]
     },
     "metadata": {
      "needs_background": "light"
     },
     "output_type": "display_data"
    }
   ],
   "source": [
    "x = data_america['Year']\n",
    "y = data_america['Generosity']\n",
    "plt.bar(x, y, color ='green',\n",
    "        width = 0.4)\n",
    " \n",
    "plt.xlabel(\"Year\")\n",
    "plt.ylabel(\"Generosity\")\n",
    "plt.title(\"America Generosity Score Trend\")\n",
    "plt.show()"
   ]
  },
  {
   "cell_type": "code",
   "execution_count": 28,
   "id": "85874250-ca6c-4a2b-95de-a1c60c1e919c",
   "metadata": {},
   "outputs": [
    {
     "data": {
      "image/png": "[encoded data removed]",
      "text/plain": [
       "<Figure size 432x288 with 1 Axes>"
      ]
     },
     "metadata": {
      "needs_background": "light"
     },
     "output_type": "display_data"
    }
   ],
   "source": [
    "x = data_america['Year']\n",
    "y = data_america['Happiness Rank']\n",
    "plt.bar(x, y, color ='maroon',\n",
    "        width = 0.4)\n",
    " \n",
    "plt.xlabel(\"Year\")\n",
    "plt.ylabel(\"Hapiness Rank\")\n",
    "plt.title(\"America Happiness Rank\")\n",
    "plt.show()"
   ]
  },
  {
   "cell_type": "code",
   "execution_count": null,
   "id": "2ecb708d-1783-4006-9e69-16bb97fbf71c",
   "metadata": {},
   "outputs": [],
   "source": []
  }
 ],
 "metadata": {
  "kernelspec": {
   "display_name": "Python 3 (ipykernel)",
   "language": "python",
   "name": "python3"
  },
  "language_info": {
   "codemirror_mode": {
    "name": "ipython",
    "version": 3
   },
   "file_extension": ".py",
   "mimetype": "text/x-python",
   "name": "python",
   "nbconvert_exporter": "python",
   "pygments_lexer": "ipython3",
   "version": "3.9.7"
  }
 },
 "nbformat": 4,
 "nbformat_minor": 5
}
